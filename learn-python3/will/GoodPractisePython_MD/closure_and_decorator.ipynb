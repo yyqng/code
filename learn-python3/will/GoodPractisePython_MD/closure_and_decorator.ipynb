{
 "cells": [
  {
   "cell_type": "markdown",
   "metadata": {},
   "source": [
    "# closure"
   ]
  },
  {
   "cell_type": "markdown",
   "metadata": {},
   "source": [
    "https://www.programiz.com/python-programming/closure"
   ]
  },
  {
   "cell_type": "code",
   "execution_count": 1,
   "metadata": {},
   "outputs": [],
   "source": [
    "def get_config_table():\n",
    "    cfg = {'a':1, 'b':2}\n",
    "    return cfg\n",
    "\n",
    "def get_config_index():\n",
    "    config_table = get_config_table()\n",
    "    def wrapper(cfg_name):\n",
    "        return config_table.get(cfg_name, 'NULL')\n",
    "    return wrapper"
   ]
  },
  {
   "cell_type": "code",
   "execution_count": 2,
   "metadata": {},
   "outputs": [],
   "source": [
    "f=get_config_index()"
   ]
  },
  {
   "cell_type": "code",
   "execution_count": 3,
   "metadata": {},
   "outputs": [
    {
     "data": {
      "text/plain": [
       "1"
      ]
     },
     "execution_count": 3,
     "metadata": {},
     "output_type": "execute_result"
    }
   ],
   "source": [
    "f('a')"
   ]
  },
  {
   "cell_type": "markdown",
   "metadata": {},
   "source": [
    "# decorator"
   ]
  },
  {
   "cell_type": "markdown",
   "metadata": {},
   "source": [
    "## decorator pattern\n",
    "![](./res/decorator_pattern.png)"
   ]
  },
  {
   "cell_type": "markdown",
   "metadata": {},
   "source": [
    "## Simple demo"
   ]
  },
  {
   "cell_type": "code",
   "execution_count": 4,
   "metadata": {},
   "outputs": [
    {
     "name": "stdout",
     "output_type": "stream",
     "text": [
      "count costs:0:00:02.000687\n",
      "count1 costs:0:00:02.000561\n",
      "_sub\n",
      "_sub costs:0:00:00.000988\n",
      "Foo.foo1\n",
      "foo1 costs:0:00:00.000988\n"
     ]
    }
   ],
   "source": [
    "from datetime import datetime\n",
    "from functools import wraps\n",
    "def time_this(func):\n",
    "    #@wraps(func)\n",
    "    def wrapper(*args, **kwargs):\n",
    "        begin = datetime.now()\n",
    "        res = func(*args, **kwargs)\n",
    "        end = datetime.now()\n",
    "        print(\"{} costs:{}\".format(func.__name__, end - begin))\n",
    "        return res\n",
    "    return wrapper\n",
    "\n",
    "@time_this\n",
    "def count(num):\n",
    "    import time\n",
    "    time.sleep(num)\n",
    "\n",
    "def count1(num):\n",
    "    import time\n",
    "    time.sleep(num)\n",
    "count1 = time_this(count1)\n",
    "\n",
    "count(2)\n",
    "count1(2)\n",
    "class Foo:\n",
    "    @time_this\n",
    "    def _sub(self, n):\n",
    "        print(\"_sub\")\n",
    "    @time_this\n",
    "    def foo1(self, num):\n",
    "        self._sub(9)\n",
    "        print(\"Foo.foo1\")\n",
    "f = Foo()\n",
    "f.foo1(2)"
   ]
  },
  {
   "cell_type": "markdown",
   "metadata": {},
   "source": [
    "## Discussion\n",
    "- decorating happens durning import\n",
    "- understand it by *count = time_this(count)*, syntactic suger make it easy to use but far to understand\n",
    "- cellphone case\n",
    " - make a cellphone\n",
    " - make cellphone wrapper\n",
    " - wrap--->return a closure which stores the function\n",
    "\n",
    "- a case of closure"
   ]
  },
  {
   "cell_type": "markdown",
   "metadata": {},
   "source": [
    "## With parameter"
   ]
  },
  {
   "cell_type": "markdown",
   "metadata": {},
   "source": [
    "### Define"
   ]
  },
  {
   "cell_type": "code",
   "execution_count": 25,
   "metadata": {},
   "outputs": [],
   "source": [
    "from functools import wraps\n",
    "\n",
    "def requires_permission(sPermission):                            \n",
    "    def decorator(fn):\n",
    "        @wraps(fn)\n",
    "        def decorated(*args,**kwargs):       \n",
    "            print(\"by function decorator\")\n",
    "            lPermissions = get_permissions(current_user_id())     \n",
    "            if sPermission in lPermissions:                       \n",
    "                return fn(*args,**kwargs)                         \n",
    "            raise Exception(\"You need '{}' permission\".format(sPermission))                  \n",
    "        return decorated                                          \n",
    "    return decorator       \n",
    "\n",
    "def get_permissions(iUserId):\n",
    "    return {1: ('logged_in', 'premium_member')}[iUserId]\n",
    "                         \n",
    "@requires_permission('administrator')\n",
    "def delete_user(iUserId):\n",
    "    pass\n",
    "\n",
    "@requires_permission('logged_in')\n",
    "def new_game():\n",
    "    pass\n",
    "\n",
    "@requires_permission('premium_member')\n",
    "def premium_checkpoint():\n",
    "    pass\n",
    "\n",
    "def current_user_id():\n",
    "    return 1"
   ]
  },
  {
   "cell_type": "markdown",
   "metadata": {},
   "source": [
    "### Test"
   ]
  },
  {
   "cell_type": "code",
   "execution_count": 39,
   "metadata": {},
   "outputs": [
    {
     "name": "stdout",
     "output_type": "stream",
     "text": [
      "test functools.partial(<function require_permission_by_class_v1.__call__.<locals>.wrapper at 0x00000215357198B8>, 1) with error 'permission denied'\n",
      "test <__main__.require_permission_by_class object at 0x0000021534BA32C8> OK\n",
      "test <__main__.require_permission_by_class object at 0x0000021534BA3FC8> OK\n"
     ]
    }
   ],
   "source": [
    "def test():\n",
    "    from functools import partial\n",
    "    for fun in (partial(delete_user, 1), new_game, premium_checkpoint):\n",
    "        try:\n",
    "            fun()\n",
    "        except Exception as e:\n",
    "            print(\"test {} with error '{}'\".format(fun, str(e)))\n",
    "        else:\n",
    "            print(\"test {} OK\".format(fun))\n",
    "\n",
    "test()"
   ]
  },
  {
   "cell_type": "markdown",
   "metadata": {},
   "source": [
    "## Decorator as class"
   ]
  },
  {
   "cell_type": "code",
   "execution_count": 50,
   "metadata": {},
   "outputs": [
    {
     "name": "stdout",
     "output_type": "stream",
     "text": [
      "by class for delete_user\n",
      "test functools.partial(<__main__.require_permission_by_class object at 0x0000021534C20348>, 1) with error 'permission denied'\n",
      "by class for new_game\n",
      "test <__main__.require_permission_by_class object at 0x0000021535441948> OK\n",
      "by class for premium_checkpoint\n",
      "test <__main__.require_permission_by_class object at 0x0000021534D18C08> OK\n"
     ]
    }
   ],
   "source": [
    "class require_permission_by_class(object):\n",
    "    def __init__(self, permission, func):\n",
    "        self._func = func\n",
    "        self._permission = permission\n",
    "    def __call__(self, *args, **kwargs):\n",
    "        print(\"by class for {}\".format(self._func.__name__))\n",
    "        lPermissions = get_permissions(current_user_id())     \n",
    "        if self._permission in lPermissions:                       \n",
    "            return self._func(*args,**kwargs)                         \n",
    "        raise Exception(\"permission denied\")\n",
    "        \n",
    "def get_permissions(iUserId):\n",
    "    return {1: ('logged_in', 'premium_member')}[iUserId]\n",
    "                         \n",
    "def delete_user(iUserId):\n",
    "    pass\n",
    "delete_user=require_permission_by_class('administrator', delete_user)\n",
    "\n",
    "\n",
    "def new_game():\n",
    "    pass\n",
    "new_game=require_permission_by_class('logged_in', new_game)\n",
    "\n",
    "\n",
    "dec1=lambda f:require_permission_by_class('premium_member', f)\n",
    "@dec1\n",
    "def premium_checkpoint():\n",
    "    pass\n",
    "\n",
    "#premium_checkpoint=require_permission_by_class('premium_member', premium_checkpoint)\n",
    "\n",
    "def current_user_id():\n",
    "    return 1\n",
    "\n",
    "def test():\n",
    "    from functools import partial\n",
    "    for fun in (partial(delete_user, 1), new_game, premium_checkpoint):\n",
    "        try:\n",
    "            fun()\n",
    "        except Exception as e:\n",
    "            print(\"test {} with error '{}'\".format(fun, str(e)))\n",
    "        else:\n",
    "            print(\"test {} OK\".format(fun))\n",
    "\n",
    "test()"
   ]
  },
  {
   "cell_type": "markdown",
   "metadata": {},
   "source": [
    "### Another way"
   ]
  },
  {
   "cell_type": "code",
   "execution_count": 51,
   "metadata": {},
   "outputs": [],
   "source": [
    "class require_permission_by_class_v1(object):\n",
    "    def __init__(self, permission):\n",
    "        self._permission = permission\n",
    "    def __call__(self, func, *args, **kwargs):\n",
    "        def wrapper(*args, **kwargs):\n",
    "            print(\"by class v1 for {}\".format(func.__name__))\n",
    "            lPermissions = get_permissions(current_user_id())     \n",
    "            if self._permission in lPermissions:                       \n",
    "                return self._func(*args,**kwargs)\n",
    "            raise Exception(\"permission denied\")\n",
    "        return wrapper\n",
    "\n",
    "@require_permission_by_class_v1('administrator')\n",
    "def delete_user(iUserId):\n",
    "    pass\n",
    "#delete_user=require_permission_by_class_v1('administrator')(delete_user)"
   ]
  },
  {
   "cell_type": "markdown",
   "metadata": {},
   "source": [
    "#### Test"
   ]
  },
  {
   "cell_type": "code",
   "execution_count": 52,
   "metadata": {},
   "outputs": [
    {
     "name": "stdout",
     "output_type": "stream",
     "text": [
      "by class v1 for delete_user\n",
      "test functools.partial(<function require_permission_by_class_v1.__call__.<locals>.wrapper at 0x0000021534F9FCA8>, 1) with error 'permission denied'\n",
      "by class for new_game\n",
      "test <__main__.require_permission_by_class object at 0x0000021535441948> OK\n",
      "by class for premium_checkpoint\n",
      "test <__main__.require_permission_by_class object at 0x0000021534D18C08> OK\n"
     ]
    }
   ],
   "source": [
    "test()"
   ]
  },
  {
   "cell_type": "markdown",
   "metadata": {},
   "source": [
    "## decorate multiple times"
   ]
  },
  {
   "cell_type": "code",
   "execution_count": null,
   "metadata": {},
   "outputs": [],
   "source": [
    "def retry(nums):\n",
    "    def decorator(fun):\n",
    "        def wrapper(*args, **kwargs):\n",
    "            for i in range(nums):\n",
    "                try:\n",
    "                    return fun(*args, **kwargs)\n",
    "                except Exception as e:\n",
    "                    print(\"{} fail{}\".format(fun.__name__, ' retry...' if i < nums -1 else ''))\n",
    "        return wrapper\n",
    "    return decorator\n",
    "\n",
    "@time_this\n",
    "@retry(3)\n",
    "def must_be_fail():\n",
    "    raise Exception(\"bad guy\")\n",
    "\n",
    "must_be_fail()"
   ]
  },
  {
   "cell_type": "markdown",
   "metadata": {},
   "source": [
    "## Summary\n",
    "- Add aditional function before and after function\n",
    "- Know the classic usage cases to give you enlightenment:\n",
    "   - log\n",
    "   - time cost\n",
    "   - exception handle\n",
    "   - permission manager\n",
    "   - retry\n",
    "   - ..."
   ]
  },
  {
   "cell_type": "code",
   "execution_count": null,
   "metadata": {},
   "outputs": [],
   "source": []
  }
 ],
 "metadata": {
  "kernelspec": {
   "display_name": "Python 3",
   "language": "python",
   "name": "python3"
  },
  "language_info": {
   "codemirror_mode": {
    "name": "ipython",
    "version": 3
   },
   "file_extension": ".py",
   "mimetype": "text/x-python",
   "name": "python",
   "nbconvert_exporter": "python",
   "pygments_lexer": "ipython3",
   "version": "3.7.4"
  }
 },
 "nbformat": 4,
 "nbformat_minor": 4
}
