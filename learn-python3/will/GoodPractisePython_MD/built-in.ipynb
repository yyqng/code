{
 "cells": [
  {
   "cell_type": "markdown",
   "metadata": {},
   "source": [
    "# [Overview](https://docs.python.org/3/library/functions.html)"
   ]
  },
  {
   "cell_type": "markdown",
   "metadata": {},
   "source": [
    "![](res/built-in_functions.png)"
   ]
  },
  {
   "cell_type": "markdown",
   "metadata": {},
   "source": [
    "# [Group by function](https://blog.csdn.net/qwxwaty/article/details/80384765)"
   ]
  },
  {
   "cell_type": "markdown",
   "metadata": {},
   "source": [
    "## Math"
   ]
  },
  {
   "cell_type": "markdown",
   "metadata": {},
   "source": [
    "**Must know**\n",
    "- float([x])\n",
    "- int([x[,base]])\n",
    "- range([start,] stop[, step])\n",
    "\n",
    "**Good to know**\n",
    "- round(x[,n])\n",
    "- complex(r, i)\n",
    "- sum(x)\n",
    "- abs(x)\n",
    "- pow(x, y[,z])\n",
    "- oct(x)\n",
    "- hex(x)\n",
    "- chr(x)\n",
    "- bin(x)\n",
    "- bool(x)\n",
    "- divmod(x)"
   ]
  },
  {
   "cell_type": "markdown",
   "metadata": {},
   "source": [
    "## Collection"
   ]
  },
  {
   "cell_type": "markdown",
   "metadata": {},
   "source": [
    "**Must know**\n",
    "- tuple(...)\n",
    "- list(...)\n",
    "- dict(...)\n",
    "- set(...)\n",
    "- enumerate(sequence, start=0)\n",
    "- zip(...)\n",
    "- len(...)\n",
    "\n",
    "\n",
    "**Good to know**\n",
    "- max(...)\n",
    "- min(...)\n",
    "- sorted(...)\n",
    "- map(...)\n",
    "- filter(...)\n",
    "- iter(...)\n",
    "- format(...)\n",
    "- slice(...)\n",
    "- reversed(...)"
   ]
  },
  {
   "cell_type": "markdown",
   "metadata": {},
   "source": [
    "## Logoic\n",
    "**Good to know**\n",
    "- all(...)\n",
    "- any(...)\n",
    "- cmp(x, y)"
   ]
  },
  {
   "cell_type": "markdown",
   "metadata": {},
   "source": [
    "# Reflection"
   ]
  },
  {
   "cell_type": "markdown",
   "metadata": {},
   "source": [
    "**Must know**\n",
    "- dir(...)\n",
    "- getattr(...)\n",
    "- hasattr(...)\n",
    "- isinstance(...)\n",
    "\n",
    "**Good to know**\n",
    "- callable(...)\n",
    "- delattr(...)\n",
    "- issubclass(...)\n",
    "- locals()\n",
    "- setattr(...)\n",
    "\n",
    "...\n"
   ]
  },
  {
   "cell_type": "markdown",
   "metadata": {},
   "source": [
    "# IO"
   ]
  },
  {
   "cell_type": "markdown",
   "metadata": {},
   "source": [
    "**Must know**\n",
    "- open(...)\n",
    "- print(...)\n",
    "- input(...)"
   ]
  },
  {
   "cell_type": "markdown",
   "metadata": {},
   "source": [
    "# [Built-in class attributes](https://dyclassroom.com/python/python-built-in-class-attributes#:~:text=Python%20-%20Built-in%20Class%20Attributes%20%20%20,in%20%20...%20%201%20more%20rows%20)"
   ]
  },
  {
   "cell_type": "markdown",
   "metadata": {},
   "source": [
    "| Attribute | Description |\n",
    "| ---- | ---- |\n",
    "| \\_\\_dict\\_\\_ | This is a dictionary holding the class namespace.|\n",
    "| \\_\\_doc\\_\\_ | This gives us the class documentation if documentation is present. None otherwise. |\n",
    "| \\_\\_name\\_\\_ | This gives us the class name.|\n",
    "| \\_\\_module\\_\\_ | This gives us the name of the module in which the class is defined.|\n",
    "| \\_\\_bases\\_\\_ | A possibly empty tuple containing the base classes in the order of their occurrence.|\n"
   ]
  },
  {
   "cell_type": "markdown",
   "metadata": {},
   "source": [
    "# [Built-in module attributes](https://www.tutorialsteacher.com/python/python-module-attributes)"
   ]
  },
  {
   "cell_type": "markdown",
   "metadata": {},
   "source": [
    "| Attribute | Description |\n",
    "| ---- | ---- |\n",
    "| \\_\\_dict\\_\\_ | This is a dictionary holding the module attributes.|\n",
    "| \\_\\_doc\\_\\_ | This gives us the module documentation if documentation is present. None otherwise. |\n",
    "| \\_\\_name\\_\\_ | module name, /_/_main/_/_ when run any python script.|\n",
    "| \\_\\_file\\_\\_ | The path of module.|\n"
   ]
  }
 ],
 "metadata": {
  "kernelspec": {
   "display_name": "Python 3",
   "language": "python",
   "name": "python3"
  },
  "language_info": {
   "codemirror_mode": {
    "name": "ipython",
    "version": 3
   },
   "file_extension": ".py",
   "mimetype": "text/x-python",
   "name": "python",
   "nbconvert_exporter": "python",
   "pygments_lexer": "ipython3",
   "version": "3.7.4"
  }
 },
 "nbformat": 4,
 "nbformat_minor": 4
}
