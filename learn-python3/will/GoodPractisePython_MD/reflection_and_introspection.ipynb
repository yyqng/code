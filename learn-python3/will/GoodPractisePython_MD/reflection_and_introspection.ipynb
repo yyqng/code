{
 "cells": [
  {
   "cell_type": "markdown",
   "metadata": {},
   "source": [
    "# Introspection\n",
    "examine something, typically an object, at runtime."
   ]
  },
  {
   "cell_type": "markdown",
   "metadata": {},
   "source": [
    "## dir()"
   ]
  },
  {
   "cell_type": "code",
   "execution_count": 2,
   "metadata": {},
   "outputs": [
    {
     "data": {
      "text/plain": [
       "['__class__',\n",
       " '__delattr__',\n",
       " '__dir__',\n",
       " '__doc__',\n",
       " '__eq__',\n",
       " '__format__',\n",
       " '__ge__',\n",
       " '__getattribute__',\n",
       " '__gt__',\n",
       " '__hash__',\n",
       " '__init__',\n",
       " '__init_subclass__',\n",
       " '__le__',\n",
       " '__lt__',\n",
       " '__ne__',\n",
       " '__new__',\n",
       " '__reduce__',\n",
       " '__reduce_ex__',\n",
       " '__repr__',\n",
       " '__setattr__',\n",
       " '__sizeof__',\n",
       " '__str__',\n",
       " '__subclasshook__']"
      ]
     },
     "execution_count": 2,
     "metadata": {},
     "output_type": "execute_result"
    }
   ],
   "source": [
    "dir(object)"
   ]
  },
  {
   "cell_type": "markdown",
   "metadata": {},
   "source": [
    "## type checking"
   ]
  },
  {
   "cell_type": "code",
   "execution_count": 3,
   "metadata": {},
   "outputs": [
    {
     "data": {
      "text/plain": [
       "type"
      ]
     },
     "execution_count": 3,
     "metadata": {},
     "output_type": "execute_result"
    }
   ],
   "source": [
    "type(int)"
   ]
  },
  {
   "cell_type": "code",
   "execution_count": 4,
   "metadata": {},
   "outputs": [
    {
     "data": {
      "text/plain": [
       "type"
      ]
     },
     "execution_count": 4,
     "metadata": {},
     "output_type": "execute_result"
    }
   ],
   "source": [
    "int.__class__"
   ]
  },
  {
   "cell_type": "code",
   "execution_count": 6,
   "metadata": {},
   "outputs": [
    {
     "data": {
      "text/plain": [
       "True"
      ]
     },
     "execution_count": 6,
     "metadata": {},
     "output_type": "execute_result"
    }
   ],
   "source": [
    "isinstance(4, int)"
   ]
  },
  {
   "cell_type": "code",
   "execution_count": 8,
   "metadata": {},
   "outputs": [
    {
     "data": {
      "text/plain": [
       "True"
      ]
     },
     "execution_count": 8,
     "metadata": {},
     "output_type": "execute_result"
    }
   ],
   "source": [
    "issubclass(int, object)"
   ]
  },
  {
   "cell_type": "markdown",
   "metadata": {},
   "source": [
    "## inspect"
   ]
  },
  {
   "cell_type": "code",
   "execution_count": 11,
   "metadata": {},
   "outputs": [
    {
     "data": {
      "text/plain": [
       "True"
      ]
     },
     "execution_count": 11,
     "metadata": {},
     "output_type": "execute_result"
    }
   ],
   "source": [
    "import inspect\n",
    "inspect.isclass(int)"
   ]
  },
  {
   "cell_type": "code",
   "execution_count": 20,
   "metadata": {},
   "outputs": [
    {
     "data": {
      "text/plain": [
       "\"def foo():\\n    '''foo comments'''\\n    pass\\n\""
      ]
     },
     "execution_count": 20,
     "metadata": {},
     "output_type": "execute_result"
    }
   ],
   "source": [
    "def foo():\n",
    "    '''foo comments'''\n",
    "    pass\n",
    "inspect.getsource(foo)"
   ]
  },
  {
   "cell_type": "code",
   "execution_count": 30,
   "metadata": {},
   "outputs": [
    {
     "data": {
      "text/plain": [
       "['isabstract',\n",
       " 'isasyncgen',\n",
       " 'isasyncgenfunction',\n",
       " 'isawaitable',\n",
       " 'isbuiltin',\n",
       " 'isclass',\n",
       " 'iscode',\n",
       " 'iscoroutine',\n",
       " 'iscoroutinefunction',\n",
       " 'isdatadescriptor',\n",
       " 'isframe',\n",
       " 'isfunction',\n",
       " 'isgenerator',\n",
       " 'isgeneratorfunction',\n",
       " 'isgetsetdescriptor',\n",
       " 'ismemberdescriptor',\n",
       " 'ismethod',\n",
       " 'ismethoddescriptor',\n",
       " 'ismodule',\n",
       " 'isroutine',\n",
       " 'istraceback']"
      ]
     },
     "execution_count": 30,
     "metadata": {},
     "output_type": "execute_result"
    }
   ],
   "source": [
    "[attr for attr in dir(inspect) if attr.startswith('is')]"
   ]
  },
  {
   "cell_type": "code",
   "execution_count": 31,
   "metadata": {},
   "outputs": [
    {
     "data": {
      "text/plain": [
       "['getabsfile',\n",
       " 'getargs',\n",
       " 'getargspec',\n",
       " 'getargvalues',\n",
       " 'getattr_static',\n",
       " 'getblock',\n",
       " 'getcallargs',\n",
       " 'getclasstree',\n",
       " 'getclosurevars',\n",
       " 'getcomments',\n",
       " 'getcoroutinelocals',\n",
       " 'getcoroutinestate',\n",
       " 'getdoc',\n",
       " 'getfile',\n",
       " 'getframeinfo',\n",
       " 'getfullargspec',\n",
       " 'getgeneratorlocals',\n",
       " 'getgeneratorstate',\n",
       " 'getinnerframes',\n",
       " 'getlineno',\n",
       " 'getmembers',\n",
       " 'getmodule',\n",
       " 'getmodulename',\n",
       " 'getmro',\n",
       " 'getouterframes',\n",
       " 'getsource',\n",
       " 'getsourcefile',\n",
       " 'getsourcelines']"
      ]
     },
     "execution_count": 31,
     "metadata": {},
     "output_type": "execute_result"
    }
   ],
   "source": [
    "[attr for attr in dir(inspect) if attr.startswith('get')]"
   ]
  },
  {
   "cell_type": "markdown",
   "metadata": {},
   "source": [
    "# Reflection"
   ]
  },
  {
   "cell_type": "markdown",
   "metadata": {},
   "source": [
    "string -> object"
   ]
  },
  {
   "cell_type": "markdown",
   "metadata": {},
   "source": [
    "## setting attributes dynamically"
   ]
  },
  {
   "cell_type": "code",
   "execution_count": 35,
   "metadata": {
    "collapsed": true,
    "jupyter": {
     "outputs_hidden": true
    }
   },
   "outputs": [
    {
     "data": {
      "text/plain": [
       "['ALLUSERSPROFILE',\n",
       " 'APPDATA',\n",
       " 'CLICOLOR',\n",
       " 'COMMONPROGRAMFILES',\n",
       " 'COMMONPROGRAMFILES(X86)',\n",
       " 'COMMONPROGRAMW6432',\n",
       " 'COMPUTERNAME',\n",
       " 'COMSPEC',\n",
       " 'CONDA_DEFAULT_ENV',\n",
       " 'CONDA_EXE',\n",
       " 'CONDA_PREFIX',\n",
       " 'CONDA_PROMPT_MODIFIER',\n",
       " 'CONDA_PYTHON_EXE',\n",
       " 'CONDA_ROOT',\n",
       " 'CONDA_SHLVL',\n",
       " 'DRIVERDATA',\n",
       " 'FPS_BROWSER_APP_PROFILE_STRING',\n",
       " 'FPS_BROWSER_USER_PROFILE_STRING',\n",
       " 'GIT_PAGER',\n",
       " 'HOMEDRIVE',\n",
       " 'HOMEPATH',\n",
       " 'HOMESHARE',\n",
       " 'IPY_INTERRUPT_EVENT',\n",
       " 'IWBPATH',\n",
       " 'JPY_INTERRUPT_EVENT',\n",
       " 'JPY_PARENT_PID',\n",
       " 'KERNEL_LAUNCH_TIMEOUT',\n",
       " 'LOCALAPPDATA',\n",
       " 'LOGONSERVER',\n",
       " 'MPLBACKEND',\n",
       " 'NUMBER_OF_PROCESSORS',\n",
       " 'ONEDRIVE',\n",
       " 'OS',\n",
       " 'PAGER',\n",
       " 'PATH',\n",
       " 'PATHEXT',\n",
       " 'PROCESSOR_ARCHITECTURE',\n",
       " 'PROCESSOR_IDENTIFIER',\n",
       " 'PROCESSOR_LEVEL',\n",
       " 'PROCESSOR_REVISION',\n",
       " 'PROGRAMDATA',\n",
       " 'PROGRAMFILES',\n",
       " 'PROGRAMFILES(X86)',\n",
       " 'PROGRAMW6432',\n",
       " 'PROMPT',\n",
       " 'PSMODULEPATH',\n",
       " 'PUBLIC',\n",
       " 'PYTHONPATH',\n",
       " 'SESSIONNAME',\n",
       " 'SYSTEMDRIVE',\n",
       " 'SYSTEMROOT',\n",
       " 'TEMP',\n",
       " 'TERM',\n",
       " 'TMP',\n",
       " 'UATDATA',\n",
       " 'USERDNSDOMAIN',\n",
       " 'USERDOMAIN',\n",
       " 'USERDOMAIN_ROAMINGPROFILE',\n",
       " 'USERNAME',\n",
       " 'USERPROFILE',\n",
       " 'WINDIR',\n",
       " '_JAVA_OPTIONS',\n",
       " '_JPI_VM_OPTIONS',\n",
       " '__class__',\n",
       " '__delattr__',\n",
       " '__dict__',\n",
       " '__dir__',\n",
       " '__doc__',\n",
       " '__eq__',\n",
       " '__format__',\n",
       " '__ge__',\n",
       " '__getattribute__',\n",
       " '__gt__',\n",
       " '__hash__',\n",
       " '__init__',\n",
       " '__init_subclass__',\n",
       " '__le__',\n",
       " '__lt__',\n",
       " '__module__',\n",
       " '__ne__',\n",
       " '__new__',\n",
       " '__reduce__',\n",
       " '__reduce_ex__',\n",
       " '__repr__',\n",
       " '__setattr__',\n",
       " '__sizeof__',\n",
       " '__str__',\n",
       " '__subclasshook__',\n",
       " '__weakref__']"
      ]
     },
     "execution_count": 35,
     "metadata": {},
     "output_type": "execute_result"
    }
   ],
   "source": [
    "import os\n",
    "os.environ\n",
    "class Env(object):\n",
    "    pass\n",
    "for k, v in os.environ.items():\n",
    "    setattr(Env, k, v)\n",
    "dir(Env)"
   ]
  },
  {
   "cell_type": "markdown",
   "metadata": {},
   "source": [
    "### setting a normal method"
   ]
  },
  {
   "cell_type": "code",
   "execution_count": 38,
   "metadata": {},
   "outputs": [
    {
     "name": "stdout",
     "output_type": "stream",
     "text": [
      "hello\n"
     ]
    }
   ],
   "source": [
    "setattr(Env, 'foo', lambda cls, msg: print(msg))\n",
    "Env.foo(Env, 'hello')"
   ]
  },
  {
   "cell_type": "markdown",
   "metadata": {},
   "source": [
    "### setting class,instance method"
   ]
  },
  {
   "cell_type": "code",
   "execution_count": 43,
   "metadata": {},
   "outputs": [
    {
     "name": "stdout",
     "output_type": "stream",
     "text": [
      "from foo1\n",
      "from foo2\n"
     ]
    }
   ],
   "source": [
    "import types\n",
    "foo1 = lambda cls, msg: print(msg)\n",
    "\n",
    "env = Env()\n",
    "env.foo1 = types.MethodType(foo1, env)\n",
    "env.foo1('from foo1')\n",
    "\n",
    "Env.foo2 = types.MethodType(foo1, env)\n",
    "Env.foo2('from foo2')"
   ]
  },
  {
   "cell_type": "markdown",
   "metadata": {},
   "source": [
    "## getattr"
   ]
  },
  {
   "cell_type": "code",
   "execution_count": 45,
   "metadata": {},
   "outputs": [],
   "source": [
    "def handle(action, args):\n",
    "    env = Env()\n",
    "    if hasattr(env, action):\n",
    "        return getattr(env, action)(args)\n",
    "    else:\n",
    "        raise Exception('no {} handler')"
   ]
  },
  {
   "cell_type": "code",
   "execution_count": 47,
   "metadata": {},
   "outputs": [
    {
     "name": "stdout",
     "output_type": "stream",
     "text": [
      "hi\n"
     ]
    },
    {
     "ename": "Exception",
     "evalue": "no {} handler",
     "output_type": "error",
     "traceback": [
      "\u001b[1;31m---------------------------------------------------------------------------\u001b[0m",
      "\u001b[1;31mException\u001b[0m                                 Traceback (most recent call last)",
      "\u001b[1;32m<ipython-input-47-417741df1b5f>\u001b[0m in \u001b[0;36m<module>\u001b[1;34m\u001b[0m\n\u001b[0;32m      1\u001b[0m \u001b[0mhandle\u001b[0m\u001b[1;33m(\u001b[0m\u001b[1;34m'foo2'\u001b[0m\u001b[1;33m,\u001b[0m \u001b[1;34m'hi'\u001b[0m\u001b[1;33m)\u001b[0m\u001b[1;33m\u001b[0m\u001b[1;33m\u001b[0m\u001b[0m\n\u001b[1;32m----> 2\u001b[1;33m \u001b[0mhandle\u001b[0m\u001b[1;33m(\u001b[0m\u001b[1;34m'foo3'\u001b[0m\u001b[1;33m,\u001b[0m \u001b[1;34m'hi'\u001b[0m\u001b[1;33m)\u001b[0m\u001b[1;33m\u001b[0m\u001b[1;33m\u001b[0m\u001b[0m\n\u001b[0m",
      "\u001b[1;32m<ipython-input-45-c1c59e7a7dd9>\u001b[0m in \u001b[0;36mhandle\u001b[1;34m(action, args)\u001b[0m\n\u001b[0;32m      4\u001b[0m         \u001b[1;32mreturn\u001b[0m \u001b[0mgetattr\u001b[0m\u001b[1;33m(\u001b[0m\u001b[0menv\u001b[0m\u001b[1;33m,\u001b[0m \u001b[0maction\u001b[0m\u001b[1;33m)\u001b[0m\u001b[1;33m(\u001b[0m\u001b[0margs\u001b[0m\u001b[1;33m)\u001b[0m\u001b[1;33m\u001b[0m\u001b[1;33m\u001b[0m\u001b[0m\n\u001b[0;32m      5\u001b[0m     \u001b[1;32melse\u001b[0m\u001b[1;33m:\u001b[0m\u001b[1;33m\u001b[0m\u001b[1;33m\u001b[0m\u001b[0m\n\u001b[1;32m----> 6\u001b[1;33m         \u001b[1;32mraise\u001b[0m \u001b[0mException\u001b[0m\u001b[1;33m(\u001b[0m\u001b[1;34m'no {} handler'\u001b[0m\u001b[1;33m)\u001b[0m\u001b[1;33m\u001b[0m\u001b[1;33m\u001b[0m\u001b[0m\n\u001b[0m",
      "\u001b[1;31mException\u001b[0m: no {} handler"
     ]
    }
   ],
   "source": [
    "handle('foo2', 'hi')\n",
    "handle('foo3', 'hi')"
   ]
  },
  {
   "cell_type": "markdown",
   "metadata": {},
   "source": [
    "## \\_\\_getattr\\_\\_"
   ]
  },
  {
   "cell_type": "markdown",
   "metadata": {},
   "source": [
    "An RPC agent demo\n",
    "```python\n",
    "class DbClient(object):\n",
    "    def __init__(self, serve_port_no):\n",
    "        self._serve_port_no = serve_port_no\n",
    "\n",
    "    def connect(self, db_port=None):\n",
    "        self.stub = ServerProxy('http://localhost:{}'.format(self._serve_port_no))\n",
    "        self._update_real_db_data()\n",
    "        return self.stub\n",
    "\n",
    "    def _update_real_db_data(self):\n",
    "        \"\"\" update data members like: mPlaceholder, is_sqlite, mCurrentTimestamp, ...  \"\"\"\n",
    "        real_db_members = self.stub.member_values()\n",
    "        self.__dict__.update(real_db_members)\n",
    "\n",
    "    def __getattr__(self, item):\n",
    "        try:\n",
    "            if hasattr(self.stub, item):\n",
    "                return getattr(self.stub, item)\n",
    "            else:\n",
    "                sys.stderr.write('==DbClient cannot find item:{}\\n'.format(item))\n",
    "        except Exception as e:\n",
    "            sys.stderr.write('==DbClient get attr error:{}\\n'.format(item))\n",
    "```"
   ]
  },
  {
   "cell_type": "markdown",
   "metadata": {},
   "source": [
    "# Summary\n",
    "Introspection is passive, the purpose is to examine; Reflection is active, and it’s not only able examine, but also to modify at runtime."
   ]
  },
  {
   "cell_type": "markdown",
   "metadata": {},
   "source": [
    "# Refer\n",
    "- https://www.geeksforgeeks.org/reflection-in-python/\n",
    "- https://www.bnmetrics.com/blog/introspection-reflection-in-python#:~:text=%20Introspection%3A%20Reflection%20in%20Python%20%201%20Introspection.,are%20very%20powerful%20concepts%2C%20and%20Python...%20More%20"
   ]
  }
 ],
 "metadata": {
  "kernelspec": {
   "display_name": "Python 3",
   "language": "python",
   "name": "python3"
  },
  "language_info": {
   "codemirror_mode": {
    "name": "ipython",
    "version": 3
   },
   "file_extension": ".py",
   "mimetype": "text/x-python",
   "name": "python",
   "nbconvert_exporter": "python",
   "pygments_lexer": "ipython3",
   "version": "3.7.4"
  }
 },
 "nbformat": 4,
 "nbformat_minor": 4
}
