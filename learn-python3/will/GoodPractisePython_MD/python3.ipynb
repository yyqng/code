{
 "cells": [
  {
   "cell_type": "markdown",
   "metadata": {},
   "source": [
    "# What's new in python\n",
    "There are so many new things in Python3.8.2(can be several books), only go through and pick something interesting to introduce here."
   ]
  },
  {
   "cell_type": "markdown",
   "metadata": {},
   "source": [
    "## Summary from Python3.8.2 documentation\n",
    "![](./res/new_in_python.png)"
   ]
  },
  {
   "cell_type": "markdown",
   "metadata": {},
   "source": [
    "## What’s New In Python 3.0\n",
    "compared to 2.6"
   ]
  },
  {
   "cell_type": "markdown",
   "metadata": {},
   "source": [
    "- Print Is A Function"
   ]
  },
  {
   "cell_type": "markdown",
   "metadata": {},
   "source": [
    "- The following functions all return iterator or similar iterator instead of list\n",
    "    - dict.keys(), dict.items(), dict.values()\n",
    "    - map() and filter()\n",
    "    - range()\n",
    "    - zip()"
   ]
  },
  {
   "cell_type": "markdown",
   "metadata": {},
   "source": [
    "- Relative import \n",
    "    - The only acceptable syntax for relative imports is `from .[module] import name`. All import forms not starting with . are interpreted as absolute imports. (PEP 328)"
   ]
  },
  {
   "cell_type": "markdown",
   "metadata": {},
   "source": [
    "- Changes To Exceptions\n",
    "    - use `raise Exception(args)` instead of `raise Exception, args`\n",
    "    - Exception objects now store their traceback as the `__traceback__` attribute. This means that an exception object now contains all the information pertaining to an exception, and there are fewer reasons to use sys.exc_info() (though the latter is not removed).\n",
    "    - ..."
   ]
  },
  {
   "cell_type": "code",
   "execution_count": 26,
   "metadata": {},
   "outputs": [
    {
     "name": "stderr",
     "output_type": "stream",
     "text": [
      "  File \"<ipython-input-26-c5c877f74edc>\", line 8, in <module>\n",
      "    foo1()\n",
      "  File \"<ipython-input-26-c5c877f74edc>\", line 6, in foo1\n",
      "    foo()\n",
      "  File \"<ipython-input-26-c5c877f74edc>\", line 4, in foo\n",
      "    int('na')\n"
     ]
    }
   ],
   "source": [
    "import traceback\n",
    "\n",
    "def foo():\n",
    "    int('na')\n",
    "def foo1():\n",
    "    foo()\n",
    "    \n",
    "try:\n",
    "    foo1()\n",
    "except Exception as e:\n",
    "    tb = e.__traceback__\n",
    "    traceback.print_tb(tb)"
   ]
  },
  {
   "cell_type": "markdown",
   "metadata": {},
   "source": [
    "- You can now invoke `super()` without arguments \n",
    "- `raw_input()` was renamed to `input()`."
   ]
  },
  {
   "cell_type": "markdown",
   "metadata": {},
   "source": [
    "- The `round()` function rounding strategy and return type have changed. Exact halfway cases are now rounded to the nearest **even result** instead of away from zero. See [this](https://docs.python.org/3/tutorial/floatingpoint.html) for the reason. "
   ]
  },
  {
   "cell_type": "code",
   "execution_count": 28,
   "metadata": {},
   "outputs": [
    {
     "name": "stdout",
     "output_type": "stream",
     "text": [
      "2 4\n"
     ]
    }
   ],
   "source": [
    "print(round(2.5), round(3.5))"
   ]
  },
  {
   "cell_type": "markdown",
   "metadata": {},
   "source": [
    "- Instead of `reduce()` use `functools.reduce()`\n",
    "- Removed reload(). Use imp.reload()."
   ]
  },
  {
   "cell_type": "markdown",
   "metadata": {},
   "source": [
    "## What’s New In Python 3.1\n",
    "compared to 3.0."
   ]
  },
  {
   "cell_type": "markdown",
   "metadata": {},
   "source": [
    "- PEP 378: Format Specifier for Thousands Separator\n",
    "```python\n",
    ">>> format(1234567, ',d')\n",
    "'1,234,567'\n",
    ">>> format(1234567.89, ',.2f')\n",
    "'1,234,567.89'\n",
    ">>> format(12345.6 + 8901234.12j, ',f')\n",
    "'12,345.600000+8,901,234.120000j'\n",
    ">>> format(Decimal('1234567.89'), ',f')\n",
    "'1,234,567.89'\n",
    "```"
   ]
  },
  {
   "cell_type": "markdown",
   "metadata": {},
   "source": [
    "- Directories and zip archives containing a \\_\\_main\\_\\_.py file can now be executed directly by passing their name to the interpreter"
   ]
  },
  {
   "cell_type": "markdown",
   "metadata": {},
   "source": [
    "- The syntax of the with statement now allows multiple context managers in a single statement\n",
    "```python\n",
    ">>> with open('mylog.txt') as infile, open('a.out', 'w') as outfile:\n",
    "...     for line in infile:\n",
    "...         if '<critical>' in line:\n",
    "...             outfile.write(line)\n",
    "```"
   ]
  },
  {
   "cell_type": "markdown",
   "metadata": {},
   "source": [
    "- Added a collections.Counter class to support convenient counting of unique items in a sequence or iterable:\n",
    "```python\n",
    ">>> Counter(['red', 'blue', 'red', 'green', 'blue', 'blue'])\n",
    "Counter({'blue': 3, 'red': 2, 'green': 1})\n",
    "```"
   ]
  },
  {
   "cell_type": "markdown",
   "metadata": {},
   "source": [
    "- The gzip.GzipFile and bz2.BZ2File classes now support the context management protocol:\n",
    "```python\n",
    ">>> # Automatically close file after writing\n",
    ">>> with gzip.GzipFile(filename, \"wb\") as f:\n",
    "...     f.write(b\"xxx\")\n",
    "```"
   ]
  },
  {
   "cell_type": "markdown",
   "metadata": {},
   "source": [
    "- itertools.combinations_with_replacement()\n",
    "```python\n",
    ">>> [p+q for p,q in combinations_with_replacement('LOVE', 2)]\n",
    "['LL', 'LO', 'LV', 'LE', 'OO', 'OV', 'OE', 'VV', 'VE', 'EE']\n",
    "```\n",
    "- ..."
   ]
  },
  {
   "cell_type": "markdown",
   "metadata": {},
   "source": [
    "## What’s New In Python 3.2\n",
    "compared to 3.1"
   ]
  },
  {
   "cell_type": "markdown",
   "metadata": {},
   "source": [
    "- PEP 3148: The concurrent.futures module\n",
    "```python\n",
    "import concurrent.futures, shutil\n",
    "with concurrent.futures.ThreadPoolExecutor(max_workers=4) as e:\n",
    "    e.submit(shutil.copy, 'src1.txt', 'dest1.txt')\n",
    "    e.submit(shutil.copy, 'src2.txt', 'dest2.txt')\n",
    "    e.submit(shutil.copy, 'src3.txt', 'dest3.txt')\n",
    "    e.submit(shutil.copy, 'src3.txt', 'dest4.txt')\n",
    "```\n",
    "\n",
    "\n",
    "- PEP 3147: PYC Repository Directories\n",
    "    - Add interpreter version in the xxx.pyc files, like “mymodule.pyc”, they will now look for “mymodule.cpython-32.pyc”, “mymodule.cpython-33.pyc”\n",
    "    -  the pyc files are now collected in a “\\_\\_pycache\\_\\_” directory stored under the package directory\n",
    "    - Imported modules now have a \\_\\_cached\\_\\_ attribute which stores the name of the actual file that was imported:\n",
    "    ```python\n",
    "    >>> import collections\n",
    "    >>> collections.__cached__ \n",
    "    'c:/py32/lib/__pycache__/collections.cpython-32.pyc'\n",
    "    ```\n",
    "    - source-less imports. 2 methods:\n",
    "       - mv the pyc file out from /\\_\\_pycache\\_\\_ and rename to same with python2's\n",
    "       - or add -b option for compileall module, to work like python2: `python3 -OO -m compileall -b <src_folder>`\n",
    "\n",
    "\n",
    "- str.format_map():\n",
    "```python\n",
    "d = {'status': 'success', 'job_type':'fem+'}\n",
    "print('job_type:{job_type}, status:{status}'.format_map(d))\n",
    "```\n",
    "\n",
    "\n",
    "-  functools.lru_cache() can save repeated queries to an external resource whenever the results are expected to be the same.\n",
    "```python\n",
    ">>> import functools\n",
    ">>> @functools.lru_cache(maxsize=300)\n",
    "... def get_phone_number(name):\n",
    "...     c = conn.cursor()\n",
    "...     c.execute('SELECT phonenumber FROM phonelist WHERE name=?', (name,))\n",
    "...     return c.fetchone()[0]\n",
    "```\n",
    "tracking cache statistics\n",
    "```python\n",
    ">>> get_phone_number.cache_info()     \n",
    "CacheInfo(hits=4805, misses=980, maxsize=300, currsize=300)\n",
    "```\n",
    "\n",
    "\n",
    "- a decorator functools.total_ordering(): supplying `__eq__` and `__lt__` will enable total_ordering() to fill-in `__le__`, `__gt__` and `__ge__`:\n",
    "\n",
    "```python\n",
    "@total_ordering\n",
    "class Student:\n",
    "    def __eq__(self, other):\n",
    "        return ((self.lastname.lower(), self.firstname.lower()) ==\n",
    "                (other.lastname.lower(), other.firstname.lower()))\n",
    "\n",
    "    def __lt__(self, other):\n",
    "        return ((self.lastname.lower(), self.firstname.lower()) <\n",
    "                (other.lastname.lower(), other.firstname.lower()))\n",
    "```\n",
    "- ..."
   ]
  },
  {
   "cell_type": "markdown",
   "metadata": {},
   "source": [
    "## What’s New In Python 3.3"
   ]
  },
  {
   "cell_type": "markdown",
   "metadata": {},
   "source": [
    "- New `yield from expression` for generator delegation."
   ]
  },
  {
   "cell_type": "markdown",
   "metadata": {},
   "source": [
    "    - Delegate a iterable obj"
   ]
  },
  {
   "cell_type": "code",
   "execution_count": 250,
   "metadata": {},
   "outputs": [
    {
     "data": {
      "text/plain": [
       "[3, 2, 1, 0, 1, 2]"
      ]
     },
     "execution_count": 250,
     "metadata": {},
     "output_type": "execute_result"
    }
   ],
   "source": [
    "def g(x):\n",
    "    yield from range(x, 0, -1)\n",
    "    yield from range(x)\n",
    "    \n",
    "list(g(3))"
   ]
  },
  {
   "cell_type": "markdown",
   "metadata": {},
   "source": [
    "    - Delegate a generator(Demo from PEP 380: Syntax for Delegating to a Subgenerator)"
   ]
  },
  {
   "cell_type": "code",
   "execution_count": 1,
   "metadata": {},
   "outputs": [],
   "source": [
    "def accumulate():\n",
    "    tally = 0\n",
    "    while 1:\n",
    "        next = yield\n",
    "        if next is None:\n",
    "            return tally # semantically equivalent to raise StopInteration(tally) in a generator\n",
    "        tally += next\n",
    "\n",
    "def gather_tallies(res):\n",
    "    while 1:\n",
    "        ac = yield from accumulate()\n",
    "        res.append(ac)\n"
   ]
  },
  {
   "cell_type": "code",
   "execution_count": 2,
   "metadata": {},
   "outputs": [
    {
     "name": "stdout",
     "output_type": "stream",
     "text": [
      "[3, 6]\n"
     ]
    }
   ],
   "source": [
    "res = []\n",
    "acc = gather_tallies(res)\n",
    "acc.send(None) # or next(acc) to ensure the accumulate is ready to accept values\n",
    "\n",
    "for i in range(3): # send value to accumulate\n",
    "    acc.send(i)\n",
    "acc.send(None) # finish the first tally\n",
    "\n",
    "for i in range(4): # send value to accumulate\n",
    "    acc.send(i)\n",
    "acc.send(None) # finish the second tally\n",
    "\n",
    "print(res)"
   ]
  },
  {
   "cell_type": "markdown",
   "metadata": {},
   "source": [
    "- PEP 362: Function Signature Object\n",
    "    - `inspect.Signature`, to get calling signatures, such as, annotations, default values, parameters kinds, and bound arguments, can simplifies:\n",
    "        - writing decorators\n",
    "        - arguments validation\n",
    "        - amends calling signatures or arguments"
   ]
  },
  {
   "cell_type": "code",
   "execution_count": 287,
   "metadata": {},
   "outputs": [
    {
     "name": "stdout",
     "output_type": "stream",
     "text": [
      "OrderedDict([('a', <Parameter \"a\">), ('b', <Parameter \"b: int\">), ('c', <Parameter \"c=4\">), ('kwargs', <Parameter \"**kwargs\">)])\n"
     ]
    }
   ],
   "source": [
    "def foo(a, *, b:int, c=4, **kwargs):\n",
    "    pass\n",
    "\n",
    "from inspect import signature\n",
    "sig = signature(foo)\n",
    "print(sig.parameters)"
   ]
  },
  {
   "cell_type": "markdown",
   "metadata": {},
   "source": [
    "## What’s New In Python 3.4"
   ]
  },
  {
   "cell_type": "markdown",
   "metadata": {},
   "source": [
    "- asyncio\n",
    "    - a library to write concurrent code using the `async/await` syntax.\n",
    "    - used for IO-bound and high-level structured network code:\n",
    "        - network and web-servers, \n",
    "        - database connection libraries,\n",
    "        - distributed task queues, etc.\n",
    "        \n",
    "\n",
    "- enum\n",
    "```python\n",
    ">>> from enum import Enum\n",
    ">>> class Color(Enum):\n",
    "...     RED = 1\n",
    "...     GREEN = 2\n",
    "...     BLUE = 3\n",
    "...\n",
    "```"
   ]
  },
  {
   "cell_type": "markdown",
   "metadata": {},
   "source": [
    "- statistics\n",
    "    - not a competitor of NumPy, SciPy, Mintab, SAS, Matlab\n",
    "    - aimed at graphing and scientific calculators"
   ]
  },
  {
   "cell_type": "code",
   "execution_count": 337,
   "metadata": {},
   "outputs": [
    {
     "name": "stdout",
     "output_type": "stream",
     "text": [
      " 0. Decimal(value='0', context=None)\n",
      " 1. Fraction(numerator=0, denominator=None, *, _normalize=True)\n",
      " 2. StatisticsError\n",
      " 3. bisect_left\n",
      " 4. bisect_right\n",
      " 5. groupby\n",
      " 6. harmonic_mean(data)\n",
      " 7. mean(data)\n",
      " 8. median(data)\n",
      " 9. median_grouped(data, interval=1)\n",
      "10. median_high(data)\n",
      "11. median_low(data)\n",
      "12. mode(data)\n",
      "13. pstdev(data, mu=None)\n",
      "14. pvariance(data, mu=None)\n",
      "15. stdev(data, xbar=None)\n",
      "16. variance(data, xbar=None)\n"
     ]
    }
   ],
   "source": [
    "import inspect\n",
    "\n",
    "def get_module_attr(module):\n",
    "    for attr in dir(module):\n",
    "        if attr.startswith('_'):\n",
    "            continue\n",
    "        try:\n",
    "            ins = getattr(statistics, attr)\n",
    "            if callable(ins):\n",
    "                yield (attr, inspect.signature(ins))\n",
    "        except Exception as e:\n",
    "            yield (attr, '')\n",
    "\n",
    "import statistics\n",
    "for idx, (name, param) in enumerate(get_module_attr(statistics)):\n",
    "    print(f'{idx:2}. {name}{param}')"
   ]
  },
  {
   "cell_type": "markdown",
   "metadata": {},
   "source": [
    "## What’s New In Python 3.5"
   ]
  },
  {
   "cell_type": "markdown",
   "metadata": {},
   "source": [
    "- PEP 492 - Coroutines with async and await syntax\n",
    "    - Coroutine functions are declared using the new async def syntax(see more in Concurrent)\n",
    "    \n",
    "    ```python\n",
    "    async def coro():\n",
    "        await asyncio.sleep(1)\n",
    "        return 'spam'\n",
    "    ```"
   ]
  },
  {
   "cell_type": "markdown",
   "metadata": {},
   "source": [
    "- PEP 448 - Additional Unpacking Generalizations\n",
    "    - allowed uses of the * iterable unpacking operator and ** dictionary unpacking operator.\n",
    "    ```python\n",
    "    >>> *range(4), 4\n",
    "    (0, 1, 2, 3, 4)\n",
    "\n",
    "    >>> [*range(4), 4]\n",
    "    [0, 1, 2, 3, 4]\n",
    "\n",
    "    >>> {*range(4), 4, *(5, 6, 7)}\n",
    "    {0, 1, 2, 3, 4, 5, 6, 7}\n",
    "\n",
    "    >>> {'x': 1, **{'y': 2}}\n",
    "    {'x': 1, 'y': 2}\n",
    "    ```"
   ]
  },
  {
   "cell_type": "markdown",
   "metadata": {},
   "source": [
    "- PEP 484 - Type Hints\n",
    "```python\n",
    "def greeting(name: str) -> str:\n",
    "    return 'Hello ' + name\n",
    "```\n",
    "    - stored at `__annotations__` attribute\n",
    "    - no automatic type checking happens at runtime. Instead, it is assumed that a separate off-line type checker (e.g. mypy) will be used for on-demand source code analysis.\n",
    "    - `Any` means all types"
   ]
  },
  {
   "cell_type": "markdown",
   "metadata": {},
   "source": [
    "- PEP 471 - os.scandir() function – a better and faster directory iterator\n",
    "```python\n",
    "for entry in os.scandir(path):\n",
    "    if not entry.name.startswith('.') and entry.is_file():\n",
    "        print(entry.name)\n",
    "```"
   ]
  },
  {
   "cell_type": "markdown",
   "metadata": {},
   "source": [
    "- math.isclose() \n",
    "```python\n",
    ">>> import math\n",
    ">>> a = 5.0\n",
    ">>> b = 4.99998\n",
    ">>> math.isclose(a, b, rel_tol=1e-5)\n",
    "True\n",
    "```"
   ]
  },
  {
   "cell_type": "markdown",
   "metadata": {},
   "source": [
    "- PEP 488: Elimination of PYO files\n",
    "    - .pyc files now have an optional opt- tag in their name when the bytecode is optimized\n",
    "    e.g.:\n",
    "    ```\n",
    "    [willchen@xxx test]$ tree __pycache__/\n",
    "__pycache__/\n",
    "├── test.cpython-37.opt-1.pyc\n",
    "└── test.cpython-37.opt-2.pyc\n",
    "```"
   ]
  },
  {
   "cell_type": "markdown",
   "metadata": {},
   "source": [
    "- zipapp\n",
    "    - The new zipapp module (specified in PEP 441) provides an API and command line tool for creating executable Python Zip Applications\n",
    "        - create:    `$ python -m zipapp myapp`\n",
    "        - run:    `$ python myapp.pyz`\n"
   ]
  },
  {
   "cell_type": "markdown",
   "metadata": {},
   "source": [
    "- ..."
   ]
  },
  {
   "cell_type": "markdown",
   "metadata": {},
   "source": [
    "## What’s New In Python 3.6"
   ]
  },
  {
   "cell_type": "markdown",
   "metadata": {},
   "source": [
    "- a new kind of string literals\n",
    "```python\n",
    ">>> name = \"Fred\"\n",
    ">>> f\"He said his name is {name}.\"\n",
    "'He said his name is Fred.'\n",
    ">>> width = 10\n",
    ">>> precision = 4\n",
    ">>> value = decimal.Decimal(\"12.34567\")\n",
    ">>> f\"result: {value:{width}.{precision}}\"  # nested fields\n",
    "'result:      12.35'\n",
    "```"
   ]
  },
  {
   "cell_type": "markdown",
   "metadata": {},
   "source": [
    "- use underscores in numeric literals for improved readability\n",
    "```python\n",
    ">>> 1_000_000_000_000_000\n",
    "1000000000000000\n",
    ">>> 0x_FF_FF_FF_FF\n",
    "4294967295\n",
    ">>> '{:_}'.format(1000000)\n",
    "'1_000_000'\n",
    ">>> '{:_x}'.format(0xFFFFFFFF)\n",
    "'ffff_ffff'\n",
    "```"
   ]
  },
  {
   "cell_type": "markdown",
   "metadata": {},
   "source": [
    "- The new `__init_subclass__` classmethod will be called on the base class whenever a new subclass is created:\n",
    "\n",
    "```python\n",
    "class PluginBase:\n",
    "    subclasses = []\n",
    "\n",
    "    def __init_subclass__(cls, **kwargs):\n",
    "        super().__init_subclass__(**kwargs)\n",
    "        cls.subclasses.append(cls)\n",
    "\n",
    "class Plugin1(PluginBase):\n",
    "    pass\n",
    "\n",
    "class Plugin2(PluginBase):\n",
    "    pass\n",
    "```"
   ]
  },
  {
   "cell_type": "markdown",
   "metadata": {},
   "source": [
    "- ..."
   ]
  },
  {
   "cell_type": "markdown",
   "metadata": {},
   "source": [
    "## What’s New In Python 3.7"
   ]
  },
  {
   "cell_type": "markdown",
   "metadata": {},
   "source": [
    "- Customization of Access to Module Attributes\n",
    "    - allows defining `__getattr__()` on modules\n",
    "    - Defining `__dir__()` on modules \n",
    "    - may be useful is module attribute deprecation and lazy loading."
   ]
  },
  {
   "cell_type": "markdown",
   "metadata": {},
   "source": [
    "```python\n",
    "# test_module_dir_getattr.py\n",
    "import sys\n",
    "from types import ModuleType\n",
    "\n",
    "def foo(msg):\n",
    "    print(msg)\n",
    "\n",
    "class VerboseModule(ModuleType):\n",
    "    def __repr__(self):\n",
    "        return f'Verbose {self.__name__}'\n",
    "\n",
    "    def __getattr__(self, name):\n",
    "        import numpy as np\n",
    "        print(f'turn to numpy.{name}')\n",
    "        return getattr(np, name)\n",
    "\n",
    "    def __dir__(self):\n",
    "        return [foo]\n",
    "\n",
    "sys.modules[__name__].__class__ = VerboseModule\n",
    "```"
   ]
  },
  {
   "cell_type": "markdown",
   "metadata": {},
   "source": [
    "``` python\n",
    ">>> import test_module_dir_getattr\n",
    ">>> test_module_dir_getattr.log\n",
    "turn to numpy.log\n",
    "<ufunc 'log'>\n",
    ">>> dir(test_module_dir_getattr)\n",
    "[<function foo at 0x000001E1E6996678>]\n",
    ">>>   \n",
    "```"
   ]
  },
  {
   "cell_type": "markdown",
   "metadata": {},
   "source": [
    "- ..."
   ]
  },
  {
   "cell_type": "markdown",
   "metadata": {},
   "source": [
    "## What’s New In Python 3.8"
   ]
  },
  {
   "cell_type": "markdown",
   "metadata": {},
   "source": [
    "- Assignment expressions to avoid executing twice\n",
    "\n",
    "```python\n",
    "# demo1\n",
    "if (n := len(a)) > 10:\n",
    "    print(f\"List is too long ({n} elements, expected <= 10)\")\n",
    "\n",
    "# demo2\n",
    "discount = 0.0\n",
    "if (mo := re.search(r'(\\d+)% discount', advertisement)):\n",
    "    discount = float(mo.group(1)) / 100.0\n",
    "\n",
    "# demo3\n",
    "# Loop over fixed length blocks\n",
    "while (block := f.read(256)) != '':\n",
    "    process(block)\n",
    "\n",
    "# demo4:\n",
    "[clean_name.title() for name in names\n",
    " if (clean_name := normalize('NFC', name)) in allowed_names]\n",
    "```"
   ]
  },
  {
   "cell_type": "markdown",
   "metadata": {},
   "source": [
    "-  functools.cached_property() decorator\n",
    "    - Transform a method of a class into a property whose value is computed once and then cached as a normal attribute for the life of the instance\n",
    "    - Demo"
   ]
  },
  {
   "cell_type": "markdown",
   "metadata": {},
   "source": [
    "```python\n",
    "import statistics\n",
    "class DataSet_V0:\n",
    "    def __init__(self, sequence_of_numbers):\n",
    "        self._data = sequence_of_numbers\n",
    "        self._stdev = None\n",
    "        \n",
    "    @property\n",
    "    def stdev(self):\n",
    "        if not self._stdev:\n",
    "            self._stdev = statistics.stdev(self._data)\n",
    "        return self._stdev\n",
    "```"
   ]
  },
  {
   "cell_type": "markdown",
   "metadata": {},
   "source": [
    "```python\n",
    "from functools import cached_property\n",
    "import statistics\n",
    "class DataSet_V1:\n",
    "    def __init__(self, sequence_of_numbers):\n",
    "        self._data = sequence_of_numbers\n",
    "\n",
    "    @cached_property\n",
    "    def stdev(self):\n",
    "        return statistics.stdev(self._data)\n",
    "```"
   ]
  },
  {
   "cell_type": "markdown",
   "metadata": {},
   "source": [
    "- `functools.singledispatchmethod()`-->function overloading "
   ]
  },
  {
   "cell_type": "markdown",
   "metadata": {},
   "source": [
    "```python\n",
    "from functools import singledispatchmethod\n",
    "class Negator:\n",
    "    @singledispatchmethod\n",
    "    def neg(cls, arg):\n",
    "        raise NotImplementedError(\"Cannot negate a\")\n",
    "\n",
    "    @neg.register\n",
    "    def _(cls, arg: int):\n",
    "        return -arg\n",
    "\n",
    "    @neg.register\n",
    "    def _(cls, arg: bool):\n",
    "        return not arg\n",
    "    \n",
    "print(f\"{Negator().neg(False)=}, {Negator().neg(4)=}\")\n",
    ">>> Negator().neg(False)=True, Negator().neg(4)=-4\n",
    "```"
   ]
  },
  {
   "cell_type": "markdown",
   "metadata": {},
   "source": [
    "- ..."
   ]
  },
  {
   "cell_type": "markdown",
   "metadata": {},
   "source": [
    "# 2to3 - Automated Python 2 to 3 code translation"
   ]
  },
  {
   "cell_type": "markdown",
   "metadata": {},
   "source": [
    "2to3 will usually be installed with the Python interpreter as a script"
   ]
  },
  {
   "cell_type": "markdown",
   "metadata": {},
   "source": [
    "## A Demo"
   ]
  },
  {
   "cell_type": "markdown",
   "metadata": {},
   "source": [
    "```\n",
    "willchen@twdev1:~/study/py/2to3$ tree python2_src/\n",
    "python2_src/\n",
    "├── test1.py\n",
    "└── test2.py\n",
    "```\n",
    "\n",
    "```python\n",
    "willchen@twdev1:~/study/py/2to3$ 2to3 --output-dir=python3_src --write-unchanged-files  --nobackups python2_src/\n",
    "WARNING: --write-unchanged-files/-W implies -w.\n",
    "lib2to3.main: Output in 'python3_src' will mirror the input directory 'python2_src' layout.\n",
    "RefactoringTool: Skipping optional fixer: buffer\n",
    "RefactoringTool: Skipping optional fixer: idioms\n",
    "RefactoringTool: Skipping optional fixer: set_literal\n",
    "RefactoringTool: Skipping optional fixer: ws_comma\n",
    "RefactoringTool: Refactored python2_src/test1.py\n",
    "--- python2_src/test1.py\t(original)\n",
    "+++ python2_src/test1.py\t(refactored)\n",
    "@@ -1,10 +1,10 @@\n",
    " \n",
    " def test_print():\n",
    "-    print 'hello'\n",
    "+    print('hello')\n",
    " \n",
    " def test_dict_keys():\n",
    "     d = {}\n",
    "-    keys = d.keys()\n",
    "+    keys = list(d.keys())\n",
    "     keys.sort()\n",
    "     return keys\n",
    " \n",
    "RefactoringTool: Writing converted python2_src/test1.py to python3_src/test1.py.\n",
    "RefactoringTool: Refactored python2_src/test2.py\n",
    "--- python2_src/test2.py\t(original)\n",
    "+++ python2_src/test2.py\t(refactored)\n",
    "@@ -1,17 +1,18 @@\n",
    "+from functools import reduce\n",
    " \n",
    " def say_hi():\n",
    "-    name = raw_input('Your name:')\n",
    "-    print 'Hi, %s' % name\n",
    "+    name = input('Your name:')\n",
    "+    print('Hi, %s' % name)\n",
    " \n",
    " \n",
    " def sum():\n",
    "-    values = raw_input('Numbers:')\n",
    "+    values = input('Numbers:')\n",
    "     values = values.split(',')\n",
    "     for v in values:\n",
    "         if not v.isdigit():\n",
    "-            raise Exception, '%s' % 'is invalid'\n",
    "+            raise Exception('%s' % 'is invalid')\n",
    " \n",
    "-    print 'sum:', reduce(lambda e1, e2: e1+e2, map(float, values))\n",
    "+    print('sum:', reduce(lambda e1, e2: e1+e2, list(map(float, values))))\n",
    " \n",
    " \n",
    " say_hi()\n",
    "RefactoringTool: Writing converted python2_src/test2.py to python3_src/test2.py.\n",
    "RefactoringTool: Files that were modified:\n",
    "RefactoringTool: python2_src/test1.py\n",
    "RefactoringTool: python2_src/test2.py\n",
    "```"
   ]
  },
  {
   "cell_type": "markdown",
   "metadata": {},
   "source": [
    "## What to fix"
   ]
  },
  {
   "cell_type": "markdown",
   "metadata": {},
   "source": [
    "```\n",
    "willchen@twdev1:~/study/py/2to3$ 2to3 -l\n",
    "Available transformations for the -f/--fix option:\n",
    "apply\n",
    "asserts\n",
    "basestring\n",
    "buffer\n",
    "callable\n",
    "dict\n",
    "except\n",
    "exec\n",
    "execfile\n",
    "exitfunc\n",
    "filter\n",
    "funcattrs\n",
    "future\n",
    "getcwdu\n",
    "has_key\n",
    "idioms\n",
    "import\n",
    "imports\n",
    "imports2\n",
    "input\n",
    "intern\n",
    "isinstance\n",
    "itertools\n",
    "itertools_imports\n",
    "long\n",
    "map\n",
    "metaclass\n",
    "methodattrs\n",
    "ne\n",
    "next\n",
    "nonzero\n",
    "numliterals\n",
    "operator\n",
    "paren\n",
    "print\n",
    "raise\n",
    "raw_input\n",
    "reduce\n",
    "renames\n",
    "repr\n",
    "set_literal\n",
    "standarderror\n",
    "sys_exc\n",
    "throw\n",
    "tuple_params\n",
    "types\n",
    "unicode\n",
    "urllib\n",
    "ws_comma\n",
    "xrange\n",
    "xreadlines\n",
    "zip\n",
    "```"
   ]
  },
  {
   "cell_type": "markdown",
   "metadata": {},
   "source": [
    "## Other"
   ]
  },
  {
   "cell_type": "markdown",
   "metadata": {},
   "source": [
    "See more in 'Python »\n",
    " 3.8.2 Documentation » \n",
    " The Python Standard Library »\n",
    " Development Tools »\n",
    " 2to3 - Automated Python 2 to 3 code translation »\n",
    " '"
   ]
  }
 ],
 "metadata": {
  "kernelspec": {
   "display_name": "Python 3",
   "language": "python",
   "name": "python3"
  },
  "language_info": {
   "codemirror_mode": {
    "name": "ipython",
    "version": 3
   },
   "file_extension": ".py",
   "mimetype": "text/x-python",
   "name": "python",
   "nbconvert_exporter": "python",
   "pygments_lexer": "ipython3",
   "version": "3.7.4"
  }
 },
 "nbformat": 4,
 "nbformat_minor": 4
}
