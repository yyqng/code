{
 "cells": [
  {
   "cell_type": "markdown",
   "metadata": {},
   "source": [
    "## what is a descriptor?\n",
    "Three behaviors for an attribute of an object:\n",
    "1. read\n",
    "2. set\n",
    "3. delete\n",
    "\n",
    "Desctiptor is a hook when accessing an attribute"
   ]
  },
  {
   "cell_type": "markdown",
   "metadata": {},
   "source": [
    "## Demo"
   ]
  },
  {
   "cell_type": "code",
   "execution_count": null,
   "metadata": {},
   "outputs": [],
   "source": [
    "class Book(object):\n",
    "    def __init__(self):\n",
    "        self._page = 0\n",
    "    @property\n",
    "    def page(self):\n",
    "        return self._page\n",
    "    @page.setter\n",
    "    def page(self, value):\n",
    "        if value < 0:\n",
    "            raise Exception(\"page value should >= 0\")\n",
    "        self._page = value\n",
    "\n",
    "book = Book()\n",
    "print(book.page)\n",
    "book.page=-2\n",
    "print(book.page)\n",
    "print(\"done\")"
   ]
  },
  {
   "cell_type": "markdown",
   "metadata": {},
   "source": [
    "## What is *property*"
   ]
  },
  {
   "cell_type": "code",
   "execution_count": 1,
   "metadata": {},
   "outputs": [
    {
     "name": "stdout",
     "output_type": "stream",
     "text": [
      "Help on class property in module builtins:\n",
      "\n",
      "class property(object)\n",
      " |  property(fget=None, fset=None, fdel=None, doc=None)\n",
      " |  \n",
      " |  Property attribute.\n",
      " |  \n",
      " |    fget\n",
      " |      function to be used for getting an attribute value\n",
      " |    fset\n",
      " |      function to be used for setting an attribute value\n",
      " |    fdel\n",
      " |      function to be used for del'ing an attribute\n",
      " |    doc\n",
      " |      docstring\n",
      " |  \n",
      " |  Typical use is to define a managed attribute x:\n",
      " |  \n",
      " |  class C(object):\n",
      " |      def getx(self): return self._x\n",
      " |      def setx(self, value): self._x = value\n",
      " |      def delx(self): del self._x\n",
      " |      x = property(getx, setx, delx, \"I'm the 'x' property.\")\n",
      " |  \n",
      " |  Decorators make defining new properties or modifying existing ones easy:\n",
      " |  \n",
      " |  class C(object):\n",
      " |      @property\n",
      " |      def x(self):\n",
      " |          \"I am the 'x' property.\"\n",
      " |          return self._x\n",
      " |      @x.setter\n",
      " |      def x(self, value):\n",
      " |          self._x = value\n",
      " |      @x.deleter\n",
      " |      def x(self):\n",
      " |          del self._x\n",
      " |  \n",
      " |  Methods defined here:\n",
      " |  \n",
      " |  __delete__(self, instance, /)\n",
      " |      Delete an attribute of instance.\n",
      " |  \n",
      " |  __get__(self, instance, owner, /)\n",
      " |      Return an attribute of instance, which is of type owner.\n",
      " |  \n",
      " |  __getattribute__(self, name, /)\n",
      " |      Return getattr(self, name).\n",
      " |  \n",
      " |  __init__(self, /, *args, **kwargs)\n",
      " |      Initialize self.  See help(type(self)) for accurate signature.\n",
      " |  \n",
      " |  __set__(self, instance, value, /)\n",
      " |      Set an attribute of instance to value.\n",
      " |  \n",
      " |  deleter(...)\n",
      " |      Descriptor to change the deleter on a property.\n",
      " |  \n",
      " |  getter(...)\n",
      " |      Descriptor to change the getter on a property.\n",
      " |  \n",
      " |  setter(...)\n",
      " |      Descriptor to change the setter on a property.\n",
      " |  \n",
      " |  ----------------------------------------------------------------------\n",
      " |  Static methods defined here:\n",
      " |  \n",
      " |  __new__(*args, **kwargs) from builtins.type\n",
      " |      Create and return a new object.  See help(type) for accurate signature.\n",
      " |  \n",
      " |  ----------------------------------------------------------------------\n",
      " |  Data descriptors defined here:\n",
      " |  \n",
      " |  __isabstractmethod__\n",
      " |  \n",
      " |  fdel\n",
      " |  \n",
      " |  fget\n",
      " |  \n",
      " |  fset\n",
      "\n"
     ]
    }
   ],
   "source": [
    "help(property)"
   ]
  },
  {
   "cell_type": "code",
   "execution_count": null,
   "metadata": {},
   "outputs": [],
   "source": [
    "class Book(object):\n",
    "    def __init__(self):\n",
    "        self._page = 0\n",
    "\n",
    "    def get_page(self):\n",
    "        return self._page\n",
    "\n",
    "    def set_page(self, value):\n",
    "        if value < 0:\n",
    "            raise Exception(\"page value should >= 0\")\n",
    "        self._page = value\n",
    "    page = property(get_page, set_page)\n",
    "\n",
    "book = Book()\n",
    "print(book.page)\n",
    "book.page=6\n",
    "print(book.page)\n",
    "print(\"done\")"
   ]
  },
  {
   "cell_type": "markdown",
   "metadata": {},
   "source": [
    "### Discussion\n",
    "- print(book.page) -> property.\\_\\_get\\_\\_ be triggered\n",
    "- bool.page = 6 -> property.\\_\\_set\\_\\_ be triggered\n",
    "\n",
    "> We can define a class like property with \\_\\_get\\_\\_ and \\_\\_set\\_\\_"
   ]
  },
  {
   "cell_type": "markdown",
   "metadata": {},
   "source": [
    "## Your descriptor"
   ]
  },
  {
   "cell_type": "code",
   "execution_count": null,
   "metadata": {},
   "outputs": [],
   "source": [
    "class JobStatus(object):\n",
    "    def __init__(self, name):\n",
    "        self._name = name\n",
    "    def __set__(self, instance, value):\n",
    "        if value not in ('running', 'stopped', 'unknown'):\n",
    "            raise Exception('wrong job status:{}'.format(value))\n",
    "        instance.__dict__[self._name] = value\n",
    "    def __get__(self, instance, owner):\n",
    "        return instance.__dict__[self._name]\n",
    "\n",
    "class Job(object):\n",
    "    status = JobStatus('status')\n",
    "    def __init__(self):\n",
    "        self.status = 'unknown'\n",
    "\n",
    "j1, j2 = Job(), Job()\n",
    "j1.status = 'running'\n",
    "print(j1.status)\n",
    "print(j2.status)\n",
    "#j.status='abc'"
   ]
  },
  {
   "cell_type": "markdown",
   "metadata": {},
   "source": [
    "## Why put the descriptor in class level instead of instance level\n",
    "Behavior is belong to class rather than instance"
   ]
  },
  {
   "cell_type": "markdown",
   "metadata": {},
   "source": [
    "## Lazy Property\n",
    "demo from \\<\\<python cookbook\\>\\>"
   ]
  },
  {
   "cell_type": "code",
   "execution_count": null,
   "metadata": {},
   "outputs": [],
   "source": [
    "class lazyproperty:\n",
    "    def __init__(self, func):\n",
    "        self.func = func\n",
    "    def __get__(self, instance, cls):\n",
    "        value = self.func(instance)\n",
    "        setattr(instance, self.func.__name__, value)\n",
    "        return value\n",
    "\n",
    "import math\n",
    "class Circle:\n",
    "    def __init__(self, radius):\n",
    "        self.radius = radius\n",
    "        \n",
    "    def area_v0(self):\n",
    "        print('Computing area')\n",
    "        return math.pi * self.radius ** 2\n",
    "        \n",
    "    @lazyproperty\n",
    "    def area_v1(self):\n",
    "        print('Computing area')\n",
    "        return math.pi * self.radius ** 2\n"
   ]
  },
  {
   "cell_type": "code",
   "execution_count": 69,
   "metadata": {},
   "outputs": [
    {
     "name": "stdout",
     "output_type": "stream",
     "text": [
      "Computing area\n",
      "254.46900494077323\n",
      "Computing area\n",
      "254.46900494077323\n"
     ]
    }
   ],
   "source": [
    "c = Circle(9)\n",
    "print(c.area_v0())\n",
    "print(c.area_v0())"
   ]
  },
  {
   "cell_type": "code",
   "execution_count": 70,
   "metadata": {},
   "outputs": [
    {
     "name": "stdout",
     "output_type": "stream",
     "text": [
      "Computing area\n",
      "254.46900494077323\n",
      "254.46900494077323\n"
     ]
    }
   ],
   "source": [
    "print(c.area_v1)\n",
    "print(c.area_v1)"
   ]
  },
  {
   "cell_type": "markdown",
   "metadata": {},
   "source": [
    "## Usage situations\n",
    "1. Additional control to the attribute\n",
    "    - that is your control of the attributes is complicated enough to extract to a class"
   ]
  }
 ],
 "metadata": {
  "kernelspec": {
   "display_name": "Python 3",
   "language": "python",
   "name": "python3"
  },
  "language_info": {
   "codemirror_mode": {
    "name": "ipython",
    "version": 3
   },
   "file_extension": ".py",
   "mimetype": "text/x-python",
   "name": "python",
   "nbconvert_exporter": "python",
   "pygments_lexer": "ipython3",
   "version": "3.7.4"
  }
 },
 "nbformat": 4,
 "nbformat_minor": 4
}
