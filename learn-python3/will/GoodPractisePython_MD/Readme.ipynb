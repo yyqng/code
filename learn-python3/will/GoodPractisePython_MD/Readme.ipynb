{
 "cells": [
  {
   "cell_type": "markdown",
   "metadata": {},
   "source": [
    "# Contents\n",
    "----\n",
    "## Python3 and Cocurrent\n",
    "### [Python3(40min)](python3.ipynb)\n",
    "### [Concurrent(45min)](concurrent.ipynb)\n",
    "---\n",
    "## Advanced\n",
    "### [Tricks get from demos(10min)](quick_get_from_demos.md)\n",
    "### [Help(5min)](help.ipynb)\n",
    "### [Build-in functions/variables(5min)](built-in.ipynb)\n",
    "### [Python interpreter intro(15min)](python_intepreter_intro.md)\n",
    "### [Some python debugger(10min)](python_debuggers.md)\n",
    "### [Reflection and Introspection(10min)](reflection_and_introspection.ipynb)\n",
    "### [Deep into Class(10min)](deep_into_class.ipynb)\n",
    "### [Meta(15min)](Meta.ipynb)\n",
    "### [Profiling and Run faster(10min)](profiling_and_run_faster.ipynb)\n",
    "---\n",
    "### [Descriptor(optional)](descriptor.ipynb)\n",
    "### [Closure and Decorator(optional)](closure_and_decorator.ipynb)\n",
    "---\n",
    "## [Homework](homework.ipynb)"
   ]
  }
 ],
 "metadata": {
  "kernelspec": {
   "display_name": "Python 3",
   "language": "python",
   "name": "python3"
  },
  "language_info": {
   "codemirror_mode": {
    "name": "ipython",
    "version": 3
   },
   "file_extension": ".py",
   "mimetype": "text/x-python",
   "name": "python",
   "nbconvert_exporter": "python",
   "pygments_lexer": "ipython3",
   "version": "3.7.4"
  }
 },
 "nbformat": 4,
 "nbformat_minor": 4
}
