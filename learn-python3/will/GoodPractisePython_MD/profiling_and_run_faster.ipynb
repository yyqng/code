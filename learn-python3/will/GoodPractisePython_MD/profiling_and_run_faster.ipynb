{
 "cells": [
  {
   "cell_type": "markdown",
   "metadata": {},
   "source": [
    "# Profile"
   ]
  },
  {
   "cell_type": "markdown",
   "metadata": {},
   "source": [
    "## Solution\n",
    "1. Use `time` tool\n",
    "\n",
    "```bash\n",
    "[willchen@dn121201 cProfile]$ /usr/bin/time -v python  test.py \n",
    "\tCommand being timed: \"python test.py\"\n",
    "\tUser time (seconds): 1.17\n",
    "\tSystem time (seconds): 0.14\n",
    "\tPercent of CPU this job got: 56%\n",
    "\tElapsed (wall clock) time (h:mm:ss or m:ss): 0:02.33\n",
    "\tAverage shared text size (kbytes): 0\n",
    "\tAverage unshared data size (kbytes): 0\n",
    "\tAverage stack size (kbytes): 0\n",
    "\tAverage total size (kbytes): 0\n",
    "\tMaximum resident set size (kbytes): 215252\n",
    "\tAverage resident set size (kbytes): 0\n",
    "\tMajor (requiring I/O) page faults: 0\n",
    "\tMinor (reclaiming a frame) page faults: 59697\n",
    "\tVoluntary context switches: 5\n",
    "\tInvoluntary context switches: 21\n",
    "\tSwaps: 0\n",
    "\tFile system inputs: 0\n",
    "\tFile system outputs: 0\n",
    "\tSocket messages sent: 0\n",
    "\tSocket messages received: 0\n",
    "\tSignals delivered: 0\n",
    "\tPage size (bytes): 4096\n",
    "\tExit status: 0\n",
    "```\n",
    "\n",
    "    By the way, if you use `time`(shell keyword) instead of `/usr/bin/time`, only shows the time result"
   ]
  },
  {
   "cell_type": "markdown",
   "metadata": {},
   "source": [
    "2. cProfile\n",
    "\n",
    "```bash\n",
    "[willchen@dn121201 cProfile]$ python -m cProfile test_pyheat.py\n",
    "1000000000\n",
    "         514 function calls in 1.025 seconds\n",
    "\n",
    "   Ordered by: standard name\n",
    "\n",
    "   ncalls  tottime  percall  cumtime  percall filename:lineno(function)\n",
    "        1    0.000    0.000    1.025    1.025 test_pyheat.py:1(<module>)\n",
    "        1    0.000    0.000    1.024    1.024 test_pyheat.py:15(main)\n",
    "        1    0.000    0.000    0.000    0.000 test_pyheat.py:4(square_sum)\n",
    "        1    0.007    0.007    0.023    0.023 test_pyheat.py:9(save_combinations)\n",
    "      252    0.000    0.000    0.000    0.000 {method 'append' of 'list' objects}\n",
    "        1    0.000    0.000    0.000    0.000 {method 'disable' of '_lsprof.Profiler' objects}\n",
    "      253    0.000    0.000    0.000    0.000 {method 'join' of 'str' objects}\n",
    "        1    0.000    0.000    0.000    0.000 {method 'write' of 'file' objects}\n",
    "        1    0.016    0.016    0.016    0.016 {open}\n",
    "        1    0.000    0.000    0.000    0.000 {range}\n",
    "        1    1.001    1.001    1.001    1.001 {time.sleep}\n",
    "```\n"
   ]
  },
  {
   "cell_type": "markdown",
   "metadata": {},
   "source": [
    "3. line-profiler\n",
    "    - install: pip install line-profielr\n",
    "    - run: kernprof -v test_pyheat.py\n",
    "    \n",
    "    ```\n",
    "    Wrote profile results to test_line_profiler1.py.prof\n",
    "             2627 function calls (2581 primitive calls) in 0.002 seconds\n",
    "    \n",
    "       Ordered by: standard name\n",
    "    \n",
    "       ncalls  tottime  percall  cumtime  percall filename:lineno(function)\n",
    "       \n",
    "        ...\n",
    "       \n",
    "            1    0.000    0.000    0.001    0.001 string.py:65(__init__)\n",
    "            1    0.000    0.000    0.000    0.000 string.py:77(Template)\n",
    "            1    0.000    0.000    0.002    0.002 test_line_profiler1.py:1(<module>)\n",
    "            1    0.000    0.000    0.001    0.001 test_line_profiler1.py:14(main)\n",
    "            1    0.000    0.000    0.000    0.000 test_line_profiler1.py:3(square_sum)\n",
    "            1    0.000    0.000    0.000    0.000 test_line_profiler1.py:8(save_combinations)\n",
    "            2    0.000    0.000    0.000    0.000 {built-in method _imp._fix_co_filename}\n",
    "        ...\n",
    "        \n",
    "    ```"
   ]
  },
  {
   "cell_type": "markdown",
   "metadata": {},
   "source": [
    "4. py-heat\n",
    "    - install: pip install py-heat\n",
    "    - run:\n",
    "```\n",
    "pyheat.exe .\\test_pyheat.py\n",
    "```\n",
    "\n",
    "![](res/pyheat_demo.png)\n"
   ]
  },
  {
   "cell_type": "markdown",
   "metadata": {},
   "source": [
    "4. timing\n",
    "\n",
    "```python\n",
    "import time\n",
    "from functools import wraps\n",
    "\n",
    "def timethis(func):\n",
    "    @wraps(func)\n",
    "    def wrapper(*args, **kwargs):\n",
    "        start = time.perf_counter()\n",
    "        r = func(*args, **kwargs)\n",
    "        end = time.perf_counter()\n",
    "        print('{}.{} : {}'.format(func.__module__, func.__name__, end - start))\n",
    "        return r\n",
    "    return wrapper\n",
    "    \n",
    ">>> @timethis\n",
    "... def countdown(n):\n",
    "... while n > 0:\n",
    "... n -= 1\n",
    "...\n",
    ">>> countdown(10000000)\n",
    "__main__.countdown : 0.803001880645752\n",
    ">>>\n",
    "\n",
    "```\n",
    "\n",
    "```python\n",
    ">>> timeit('math.sqrt(2)', setup='import math', number=10000000)\n",
    "1.434852126003534\n",
    ">>> timeit('sqrt(2)', setup='from math import sqrt', number=10000000)\n",
    "1.0270336690009572\n",
    "```"
   ]
  },
  {
   "cell_type": "markdown",
   "metadata": {},
   "source": [
    "# [Run faster](https://python3-cookbook.readthedocs.io/zh_CN/latest/c14/p14_make_your_program_run_faster.html)"
   ]
  },
  {
   "cell_type": "markdown",
   "metadata": {},
   "source": [
    "## Solutions\n",
    "Just improve the hotspot"
   ]
  },
  {
   "cell_type": "markdown",
   "metadata": {},
   "source": [
    "- Use local vars instead of globals\n",
    "- Decrease the '.' to access attributes\n",
    "- Use c implemented library, like numpy, pandas,... or implemented by yourself in c\n",
    "- concurrent methods\n",
    "- Reduce IO access times\n",
    "- ..."
   ]
  },
  {
   "cell_type": "code",
   "execution_count": 18,
   "metadata": {},
   "outputs": [
    {
     "name": "stdout",
     "output_type": "stream",
     "text": [
      "Wall time: 42.6 s\n"
     ]
    }
   ],
   "source": [
    "%%time\n",
    "import math\n",
    "\n",
    "def compute_roots(nums):\n",
    "    result = []\n",
    "    for n in nums:\n",
    "        result.append(math.sqrt(n) + math.log(n+1))\n",
    "    return result\n",
    "\n",
    "# Test\n",
    "nums = range(1000000)\n",
    "for n in range(100):\n",
    "    r = compute_roots(nums)"
   ]
  },
  {
   "cell_type": "code",
   "execution_count": 20,
   "metadata": {},
   "outputs": [
    {
     "name": "stdout",
     "output_type": "stream",
     "text": [
      "Wall time: 35.5 s\n"
     ]
    }
   ],
   "source": [
    "%%time\n",
    "from math import sqrt, log\n",
    "\n",
    "def compute_roots(nums):\n",
    "\n",
    "    result = []\n",
    "    result_append = result.append\n",
    "    for n in nums:\n",
    "        result_append(sqrt(n)+log(n+1))\n",
    "    return result\n",
    "\n",
    "# Test\n",
    "nums = range(1000000)\n",
    "for n in range(100):\n",
    "    r = compute_roots(nums)"
   ]
  },
  {
   "cell_type": "code",
   "execution_count": 21,
   "metadata": {},
   "outputs": [
    {
     "name": "stdout",
     "output_type": "stream",
     "text": [
      "done\n",
      "Wall time: 39.2 s\n"
     ]
    }
   ],
   "source": [
    "%%time\n",
    "from math import sqrt, log\n",
    "\n",
    "result = []\n",
    "nums = 1000000\n",
    "for n in range(100):\n",
    "    result.clear()\n",
    "    result_append = result.append\n",
    "    for n in range(nums):\n",
    "        result_append(sqrt(n)+log(n+1))\n",
    "print('done')\n"
   ]
  }
 ],
 "metadata": {
  "kernelspec": {
   "display_name": "Python 3",
   "language": "python",
   "name": "python3"
  },
  "language_info": {
   "codemirror_mode": {
    "name": "ipython",
    "version": 3
   },
   "file_extension": ".py",
   "mimetype": "text/x-python",
   "name": "python",
   "nbconvert_exporter": "python",
   "pygments_lexer": "ipython3",
   "version": "3.7.4"
  }
 },
 "nbformat": 4,
 "nbformat_minor": 4
}
