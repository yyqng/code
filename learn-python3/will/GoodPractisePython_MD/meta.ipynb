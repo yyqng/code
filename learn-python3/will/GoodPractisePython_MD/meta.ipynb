{
 "cells": [
  {
   "cell_type": "markdown",
   "metadata": {
    "toc": true
   },
   "source": [
    "<h1>Table of Contents<span class=\"tocSkip\"></span></h1>\n",
    "<div class=\"toc\"><ul class=\"toc-item\"><li><span><a href=\"#About-Meta\" data-toc-modified-id=\"About-Meta-1\"><span class=\"toc-item-num\">1&nbsp;&nbsp;</span>About Meta</a></span><ul class=\"toc-item\"><li><span><a href=\"#type-&amp;-object-&amp;-class-&amp;-instance\" data-toc-modified-id=\"type-&amp;-object-&amp;-class-&amp;-instance-1.1\"><span class=\"toc-item-num\">1.1&nbsp;&nbsp;</span>type &amp; object &amp; class &amp; instance</a></span><ul class=\"toc-item\"><li><ul class=\"toc-item\"><li><span><a href=\"#instance's-class\" data-toc-modified-id=\"instance's-class-1.1.0.1\"><span class=\"toc-item-num\">1.1.0.1&nbsp;&nbsp;</span>instance's class</a></span></li><li><span><a href=\"#class's-class-and-parents\" data-toc-modified-id=\"class's-class-and-parents-1.1.0.2\"><span class=\"toc-item-num\">1.1.0.2&nbsp;&nbsp;</span>class's class and parents</a></span></li><li><span><a href=\"#type's-parent\" data-toc-modified-id=\"type's-parent-1.1.0.3\"><span class=\"toc-item-num\">1.1.0.3&nbsp;&nbsp;</span>type's parent</a></span></li></ul></li></ul></li><li><span><a href=\"#__call__'s-role-in-class-and-type\" data-toc-modified-id=\"__call__'s-role-in-class-and-type-1.2\"><span class=\"toc-item-num\">1.2&nbsp;&nbsp;</span>__call__'s role in class and type</a></span><ul class=\"toc-item\"><li><span><a href=\"#Discussion\" data-toc-modified-id=\"Discussion-1.2.1\"><span class=\"toc-item-num\">1.2.1&nbsp;&nbsp;</span>Discussion</a></span></li></ul></li><li><span><a href=\"#Usage\" data-toc-modified-id=\"Usage-1.3\"><span class=\"toc-item-num\">1.3&nbsp;&nbsp;</span>Usage</a></span><ul class=\"toc-item\"><li><span><a href=\"#singleton\" data-toc-modified-id=\"singleton-1.3.1\"><span class=\"toc-item-num\">1.3.1&nbsp;&nbsp;</span>singleton</a></span></li><li><span><a href=\"#Peep-at-Django-DB\" data-toc-modified-id=\"Peep-at-Django-DB-1.3.2\"><span class=\"toc-item-num\">1.3.2&nbsp;&nbsp;</span>Peep at Django DB</a></span><ul class=\"toc-item\"><li><span><a href=\"#Django-DB-demo\" data-toc-modified-id=\"Django-DB-demo-1.3.2.1\"><span class=\"toc-item-num\">1.3.2.1&nbsp;&nbsp;</span><a href=\"https://www.tutorialspoint.com/django/django_models.htm\" target=\"_blank\">Django DB demo</a></a></span></li><li><span><a href=\"#How-Django-use-meta-to-do-this\" data-toc-modified-id=\"How-Django-use-meta-to-do-this-1.3.2.2\"><span class=\"toc-item-num\">1.3.2.2&nbsp;&nbsp;</span>How Django use meta to do this</a></span></li></ul></li><li><span><a href=\"#More-usages\" data-toc-modified-id=\"More-usages-1.3.3\"><span class=\"toc-item-num\">1.3.3&nbsp;&nbsp;</span>More usages</a></span></li></ul></li></ul></li></ul></div>"
   ]
  },
  {
   "cell_type": "markdown",
   "metadata": {},
   "source": [
    "# About Meta\n",
    "To see a bit more about inner of python"
   ]
  },
  {
   "cell_type": "markdown",
   "metadata": {},
   "source": [
    "## type & object & class & instance"
   ]
  },
  {
   "cell_type": "markdown",
   "metadata": {},
   "source": [
    "![](./res/instance_class_type.png)\n",
    "https://stackoverflow.com/questions/100003/what-are-metaclasses-in-python"
   ]
  },
  {
   "cell_type": "markdown",
   "metadata": {},
   "source": [
    "![](./res/type_object_class.png)\n",
    "https://www.zhihu.com/question/38791962"
   ]
  },
  {
   "cell_type": "markdown",
   "metadata": {},
   "source": [
    "#### instance's class"
   ]
  },
  {
   "cell_type": "code",
   "execution_count": 12,
   "metadata": {},
   "outputs": [
    {
     "name": "stdout",
     "output_type": "stream",
     "text": [
      "\"hello world\".__class__: <class 'str'>\n"
     ]
    }
   ],
   "source": [
    "print('\"hello world\".__class__:', 'hello world'.__class__)"
   ]
  },
  {
   "cell_type": "markdown",
   "metadata": {},
   "source": [
    "#### class's class and parents"
   ]
  },
  {
   "cell_type": "code",
   "execution_count": 8,
   "metadata": {},
   "outputs": [
    {
     "name": "stdout",
     "output_type": "stream",
     "text": [
      "str.__class__: <class 'type'>\n",
      "str.__bases__: (<class 'object'>,)\n"
     ]
    }
   ],
   "source": [
    "print('str.__class__:', str.__class__)\n",
    "print('str.__bases__:', str.__bases__)"
   ]
  },
  {
   "cell_type": "markdown",
   "metadata": {},
   "source": [
    "#### type's parent"
   ]
  },
  {
   "cell_type": "code",
   "execution_count": 13,
   "metadata": {},
   "outputs": [
    {
     "data": {
      "text/plain": [
       "(object,)"
      ]
     },
     "execution_count": 13,
     "metadata": {},
     "output_type": "execute_result"
    }
   ],
   "source": [
    "type.__bases__"
   ]
  },
  {
   "cell_type": "markdown",
   "metadata": {},
   "source": [
    "## \\_\\_call\\_\\_'s role in class and type"
   ]
  },
  {
   "cell_type": "code",
   "execution_count": 15,
   "metadata": {},
   "outputs": [],
   "source": [
    "class SimpleMeta(type):\n",
    "    def __call__(self, *args, **kwargs):\n",
    "        print(\"callable object called()\")\n",
    "        return super().__call__(*args, **kwargs)\n",
    "    def __new__(cls, clsname, bases, clsdict):\n",
    "        print('SimpleMeta.__new__')\n",
    "        return super().__new__(cls, clsname, bases, clsdict)"
   ]
  },
  {
   "cell_type": "code",
   "execution_count": 16,
   "metadata": {},
   "outputs": [
    {
     "name": "stdout",
     "output_type": "stream",
     "text": [
      "SimpleMeta.__new__\n",
      "what is Spam: <class '__main__.Spam'>, its type:<class '__main__.SimpleMeta'>\n"
     ]
    }
   ],
   "source": [
    "class Spam(object, metaclass=SimpleMeta):\n",
    "    def __init__(self):\n",
    "        pass\n",
    "    def __new__(cls, *args, **kwargs):\n",
    "        print('Spma __new__')\n",
    "        return super().__new__(cls, *args, **kwargs)\n",
    "    def __call__(self, *args, **kwargs):\n",
    "        print(\"Spam instance is a callable object\")\n",
    "print('what is Spam: {}, its type:{}'.format(Spam, type(Spam)))"
   ]
  },
  {
   "cell_type": "code",
   "execution_count": 17,
   "metadata": {},
   "outputs": [
    {
     "name": "stdout",
     "output_type": "stream",
     "text": [
      "callable object called()\n",
      "Spma __new__\n",
      "Spam instance is a callable object\n"
     ]
    }
   ],
   "source": [
    "spam_instance = Spam()\n",
    "spam_instance()"
   ]
  },
  {
   "cell_type": "markdown",
   "metadata": {},
   "source": [
    "### Discussion\n",
    "- define \\_\\_call\\_\\_ in Spam, so spam_instance is a callable ojbect, invoked by spam_instance()\n",
    "- define \\_\\_call\\_\\_ in SimpleMeta, so Spma, a instance of SimpleMeta, is a callable object, invoked by Spam()\n",
    "    - so that is why we can create instance by Spam()\n",
    "- \\_\\_call\\_\\_ in meta class return its instance, so that class's \\_\\_init\\_\\_ can init on it"
   ]
  },
  {
   "cell_type": "markdown",
   "metadata": {},
   "source": [
    "## Usage"
   ]
  },
  {
   "cell_type": "markdown",
   "metadata": {},
   "source": [
    "### singleton"
   ]
  },
  {
   "cell_type": "code",
   "execution_count": 36,
   "metadata": {},
   "outputs": [],
   "source": [
    "class Singleton(type):\n",
    "    def __init__(self, *args, **kwargs):\n",
    "        self._instance = None\n",
    "        super().__init__(*args, **kwargs)\n",
    "        print('__init__')\n",
    "    def __call__(self, *args, **kwargs):\n",
    "        if self._instance is None:\n",
    "            self._instance = super().__call__(*args, **kwargs)\n",
    "        print('__call__', self._instance)\n",
    "        return self._instance"
   ]
  },
  {
   "cell_type": "code",
   "execution_count": 37,
   "metadata": {},
   "outputs": [
    {
     "name": "stdout",
     "output_type": "stream",
     "text": [
      "__init__\n"
     ]
    }
   ],
   "source": [
    "class Foo(metaclass=Singleton):\n",
    "    pass"
   ]
  },
  {
   "cell_type": "code",
   "execution_count": 38,
   "metadata": {},
   "outputs": [
    {
     "name": "stdout",
     "output_type": "stream",
     "text": [
      "__call__ <__main__.Foo object at 0x0000020781ACF788>\n",
      "__call__ <__main__.Foo object at 0x0000020781ACF788>\n",
      "2231263623048 2231263623048\n"
     ]
    }
   ],
   "source": [
    "f1=Foo()\n",
    "f2=Foo()\n",
    "print(id(f1), id(f2))"
   ]
  },
  {
   "cell_type": "markdown",
   "metadata": {},
   "source": [
    "### Peep at Django DB"
   ]
  },
  {
   "cell_type": "markdown",
   "metadata": {},
   "source": [
    "#### [Django DB demo](https://www.tutorialspoint.com/django/django_models.htm)"
   ]
  },
  {
   "cell_type": "markdown",
   "metadata": {},
   "source": [
    "Create a table and define table fields"
   ]
  },
  {
   "cell_type": "markdown",
   "metadata": {},
   "source": [
    "```python\n",
    "from django.db import models\n",
    "\n",
    "class Dreamreal(models.Model):\n",
    "\n",
    "   website = models.CharField(max_length = 50)\n",
    "   mail = models.CharField(max_length = 50)\n",
    "   name = models.CharField(max_length = 50)\n",
    "   phonenumber = models.IntegerField()\n",
    "```"
   ]
  },
  {
   "cell_type": "markdown",
   "metadata": {},
   "source": [
    "Table usage"
   ]
  },
  {
   "cell_type": "markdown",
   "metadata": {},
   "source": [
    "```python\n",
    "from myapp.models import Dreamreal\n",
    "from django.http import HttpResponse\n",
    "\n",
    "def crudops(request):\n",
    "   #Creating an entry\n",
    "   \n",
    "   dreamreal = Dreamreal(\n",
    "      website = \"www.polo.com\", mail = \"sorex@polo.com\", \n",
    "      name = \"sorex\", phonenumber = \"002376970\"\n",
    "   )\n",
    "   \n",
    "   dreamreal.save()\n",
    "   \n",
    "   #Read ALL entries\n",
    "   objects = Dreamreal.objects.all()\n",
    "   res ='Printing all Dreamreal entries in the DB : <br>'\n",
    "   \n",
    "   for elt in objects:\n",
    "      res += elt.name+\"<br>\"\n",
    "   \n",
    "   #Read a specific entry:\n",
    "   sorex = Dreamreal.objects.get(name = \"sorex\")\n",
    "   res += 'Printing One entry <br>'\n",
    "   res += sorex.name\n",
    "   \n",
    "   #Delete an entry\n",
    "   res += '<br> Deleting an entry <br>'\n",
    "   sorex.delete()\n",
    "   \n",
    "   #Update\n",
    "   dreamreal = Dreamreal(\n",
    "      website = \"www.polo.com\", mail = \"sorex@polo.com\", \n",
    "      name = \"sorex\", phonenumber = \"002376970\"\n",
    "   )\n",
    "   \n",
    "   dreamreal.save()\n",
    "   res += 'Updating entry<br>'\n",
    "   \n",
    "   dreamreal = Dreamreal.objects.get(name = 'sorex')\n",
    "   dreamreal.name = 'thierry'\n",
    "   dreamreal.save()\n",
    "   \n",
    "   return HttpResponse(res)\n",
    "```"
   ]
  },
  {
   "cell_type": "markdown",
   "metadata": {},
   "source": [
    "Same interfaces for operating data objects for different DB instead of using sql"
   ]
  },
  {
   "cell_type": "markdown",
   "metadata": {},
   "source": [
    "#### How Django use meta to do this"
   ]
  },
  {
   "cell_type": "code",
   "execution_count": 16,
   "metadata": {},
   "outputs": [
    {
     "name": "stdout",
     "output_type": "stream",
     "text": [
      "course: title,description,created\n"
     ]
    }
   ],
   "source": [
    "class Field:\n",
    "    def __init__(self, *args, **kwargs):\n",
    "        pass\n",
    "class DummyMeta(type):\n",
    "    def __new__(cls, cls_name, bases, cls_attrs):\n",
    "        ins = super().__new__(cls, cls_name, bases, cls_attrs)\n",
    "        #print(cls_attrs)\n",
    "        fields = {name: value for name, value in cls_attrs.items() if isinstance(value, Field)}\n",
    "        setattr(ins, '_fields', fields)\n",
    "        return ins\n",
    "class DummyModel(metaclass=DummyMeta):\n",
    "    pass\n",
    "class models:\n",
    "    Model = DummyModel\n",
    "    @classmethod\n",
    "    def CharField(cls, *args, **kwargs):\n",
    "        return Field(*args, **kwargs)\n",
    "    @classmethod\n",
    "    def TextField(cls, *args, **kwargs):\n",
    "        return Field(*args, **kwargs)\n",
    "    @classmethod\n",
    "    def DateTimeField(cls, *args, **kwargs):\n",
    "        return Field(*args, **kwargs)\n",
    "\n",
    "class Course(models.Model):\n",
    "    title = models.CharField(max_length=250)\n",
    "    description = models.TextField()\n",
    "    created = models.DateTimeField(auto_now_add=True)\n",
    "    \n",
    "    def __repr__(self):\n",
    "        return \",\".join(self._fields.keys())\n",
    "    def foo(self):\n",
    "        pass\n",
    "\n",
    "c = Course()\n",
    "print(\"course:\", c)"
   ]
  },
  {
   "cell_type": "markdown",
   "metadata": {},
   "source": [
    "##### Summary\n",
    "Do something more before/after class/instance creating"
   ]
  },
  {
   "cell_type": "markdown",
   "metadata": {},
   "source": [
    "### More usages"
   ]
  },
  {
   "cell_type": "markdown",
   "metadata": {},
   "source": [
    "- [cache instances](\n",
    "https://python3-cookbook.readthedocs.io/zh_CN/latest/c09/p13_using_mataclass_to_control_instance_creation.html?highlight=metaclass)\n",
    "- [ABCMeta](https://python3-cookbook.readthedocs.io/zh_CN/latest/c08/p12_define_interface_or_abstract_base_class.html?highlight=metaclass)\n",
    "- [Coding Rules](https://python3-cookbook.readthedocs.io/zh_CN/latest/c09/p17_enforce_coding_conventions_in_classes.html?highlight=metaclass)\n",
    "- [function overloading](https://python3-cookbook.readthedocs.io/zh_CN/latest/c09/p20_implement_multiple_dispatch_with_function_annotations.html?highlight=metaclass)\n",
    "- ..."
   ]
  },
  {
   "cell_type": "code",
   "execution_count": null,
   "metadata": {},
   "outputs": [],
   "source": []
  }
 ],
 "metadata": {
  "kernelspec": {
   "display_name": "Python 3",
   "language": "python",
   "name": "python3"
  },
  "language_info": {
   "codemirror_mode": {
    "name": "ipython",
    "version": 3
   },
   "file_extension": ".py",
   "mimetype": "text/x-python",
   "name": "python",
   "nbconvert_exporter": "python",
   "pygments_lexer": "ipython3",
   "version": "3.7.4"
  },
  "toc": {
   "base_numbering": 1,
   "nav_menu": {},
   "number_sections": true,
   "sideBar": true,
   "skip_h1_title": false,
   "title_cell": "Table of Contents",
   "title_sidebar": "Contents",
   "toc_cell": true,
   "toc_position": {},
   "toc_section_display": true,
   "toc_window_display": true
  }
 },
 "nbformat": 4,
 "nbformat_minor": 4
}
