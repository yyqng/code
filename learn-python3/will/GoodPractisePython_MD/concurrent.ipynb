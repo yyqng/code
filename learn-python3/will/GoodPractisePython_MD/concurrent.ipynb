{
 "cells": [
  {
   "cell_type": "markdown",
   "metadata": {
    "toc": true
   },
   "source": [
    "<h1>Table of Contents<span class=\"tocSkip\"></span></h1>\n",
    "<div class=\"toc\"><ul class=\"toc-item\"><li><span><a href=\"#Concurrency\" data-toc-modified-id=\"Concurrency-1\"><span class=\"toc-item-num\">1&nbsp;&nbsp;</span>Concurrency</a></span></li><li><span><a href=\"#When-is-concurrency-usefule\" data-toc-modified-id=\"When-is-concurrency-usefule-2\"><span class=\"toc-item-num\">2&nbsp;&nbsp;</span>When is concurrency usefule</a></span><ul class=\"toc-item\"><li><span><a href=\"#Summary\" data-toc-modified-id=\"Summary-2.1\"><span class=\"toc-item-num\">2.1&nbsp;&nbsp;</span>Summary</a></span></li></ul></li><li><span><a href=\"#How-to-improve\" data-toc-modified-id=\"How-to-improve-3\"><span class=\"toc-item-num\">3&nbsp;&nbsp;</span>How to improve</a></span><ul class=\"toc-item\"><li><span><a href=\"#Synchronous-Version\" data-toc-modified-id=\"Synchronous-Version-3.1\"><span class=\"toc-item-num\">3.1&nbsp;&nbsp;</span>Synchronous Version</a></span></li><li><span><a href=\"#Threading-Version\" data-toc-modified-id=\"Threading-Version-3.2\"><span class=\"toc-item-num\">3.2&nbsp;&nbsp;</span>Threading Version</a></span><ul class=\"toc-item\"><li><span><a href=\"#What-it-looks-like\" data-toc-modified-id=\"What-it-looks-like-3.2.1\"><span class=\"toc-item-num\">3.2.1&nbsp;&nbsp;</span>What it looks like</a></span></li><li><span><a href=\"#downsides\" data-toc-modified-id=\"downsides-3.2.2\"><span class=\"toc-item-num\">3.2.2&nbsp;&nbsp;</span>downsides</a></span></li></ul></li><li><span><a href=\"#asyncio-version\" data-toc-modified-id=\"asyncio-version-3.3\"><span class=\"toc-item-num\">3.3&nbsp;&nbsp;</span>asyncio version</a></span><ul class=\"toc-item\"><li><span><a href=\"#Discussion\" data-toc-modified-id=\"Discussion-3.3.1\"><span class=\"toc-item-num\">3.3.1&nbsp;&nbsp;</span>Discussion</a></span></li><li><span><a href=\"#What-the-executions-looks-like\" data-toc-modified-id=\"What-the-executions-looks-like-3.3.2\"><span class=\"toc-item-num\">3.3.2&nbsp;&nbsp;</span>What the executions looks like</a></span></li><li><span><a href=\"#downsides\" data-toc-modified-id=\"downsides-3.3.3\"><span class=\"toc-item-num\">3.3.3&nbsp;&nbsp;</span>downsides</a></span></li></ul></li><li><span><a href=\"#multiprocessing-version\" data-toc-modified-id=\"multiprocessing-version-3.4\"><span class=\"toc-item-num\">3.4&nbsp;&nbsp;</span>multiprocessing version</a></span><ul class=\"toc-item\"><li><span><a href=\"#What-it-looks-like:\" data-toc-modified-id=\"What-it-looks-like:-3.4.1\"><span class=\"toc-item-num\">3.4.1&nbsp;&nbsp;</span>What it looks like:</a></span></li><li><span><a href=\"#Discussion\" data-toc-modified-id=\"Discussion-3.4.2\"><span class=\"toc-item-num\">3.4.2&nbsp;&nbsp;</span>Discussion</a></span></li></ul></li><li><span><a href=\"#CPU-Bound-Demos\" data-toc-modified-id=\"CPU-Bound-Demos-3.5\"><span class=\"toc-item-num\">3.5&nbsp;&nbsp;</span>CPU-Bound Demos</a></span></li></ul></li><li><span><a href=\"#Summary\" data-toc-modified-id=\"Summary-4\"><span class=\"toc-item-num\">4&nbsp;&nbsp;</span>Summary</a></span></li></ul></div>"
   ]
  },
  {
   "cell_type": "markdown",
   "metadata": {},
   "source": [
    "## Concurrency\n",
    "Refer to: https://realpython.com/python-concurrency/"
   ]
  },
  {
   "cell_type": "markdown",
   "metadata": {},
   "source": [
    "\n",
    "| Concurrency Type | Switching Decision | Number of Processors |\n",
    "| :--------------- | :----------------- | :------------------- |\n",
    "| Pre-emptive multitasking (threading) | The operating system decides when to switch. | 1 |\n",
    "| Cooperative multitasking (asyncio) | The tasks decide when to give up control. | 1 |\n",
    "| Multiprocessing (multiprocessing) | The processes all run at the same time on different processors. | Many |"
   ]
  },
  {
   "cell_type": "markdown",
   "metadata": {},
   "source": [
    "## When is concurrency usefule\n",
    "Concurrency can make a big difference for two types of problems. These are generally called CPU-bound and I/O-bound.\n",
    "\n",
    "**IO-bound problem**\n",
    "\n",
    "![IO-bound problem](./res/io_bound.png)\n",
    "\n",
    "Some cases: browser, RPC, DB access,...\n",
    "\n",
    "---\n",
    "\n",
    "\n",
    "**CPU-bound problem**\n",
    "\n",
    "![CPU-bound problem](./res/cpu_bound.png)\n",
    "\n",
    "Some cases: algo, ML training/prediction, ...\n",
    "\n",
    "### Summary\n",
    "| I/O-Bound Process | CPU-Bound Process |\n",
    "| :---------------- | :---------------- |\n",
    "| Spends most of its time talking to a slow device: a network connection, a hard drive, or a printer. | Spends most of its time doing CPU operations. |\n",
    "| Speeding it up involves overlapping the times spent waiting for these devices. | Speeding it up involves finding ways to do more computations in the same amount of time. |"
   ]
  },
  {
   "cell_type": "markdown",
   "metadata": {},
   "source": [
    "## How to improve"
   ]
  },
  {
   "cell_type": "markdown",
   "metadata": {},
   "source": [
    "### Synchronous Version"
   ]
  },
  {
   "cell_type": "code",
   "execution_count": 8,
   "metadata": {},
   "outputs": [
    {
     "name": "stdout",
     "output_type": "stream",
     "text": [
      "Read 10394 from https://www.jython.org\n",
      "Read 277 from http://olympus.realpython.org/dice\n",
      "Read 10394 from https://www.jython.org\n",
      "Read 277 from http://olympus.realpython.org/dice\n",
      "Read 10394 from https://www.jython.org\n",
      "Read 277 from http://olympus.realpython.org/dice\n",
      "Read 10394 from https://www.jython.org\n",
      "Read 277 from http://olympus.realpython.org/dice\n",
      "Read 10394 from https://www.jython.org\n",
      "Read 277 from http://olympus.realpython.org/dice\n",
      "Read 10394 from https://www.jython.org\n",
      "Read 277 from http://olympus.realpython.org/dice\n",
      "Read 10394 from https://www.jython.org\n",
      "Read 277 from http://olympus.realpython.org/dice\n",
      "Read 10394 from https://www.jython.org\n",
      "Read 277 from http://olympus.realpython.org/dice\n",
      "Read 10394 from https://www.jython.org\n",
      "Read 277 from http://olympus.realpython.org/dice\n",
      "Read 10394 from https://www.jython.org\n",
      "Read 277 from http://olympus.realpython.org/dice\n",
      "total len:106710\n",
      "Downloaded 20 in 10.00223684310913 seconds\n"
     ]
    }
   ],
   "source": [
    "import requests\n",
    "import time\n",
    "\n",
    "total_len = 0\n",
    "def download_site(url, session):\n",
    "    with session.get(url) as response:\n",
    "        print(f\"Read {len(response.content)} from {url}\")\n",
    "        global total_len\n",
    "        total_len += len(response.content)\n",
    "\n",
    "def download_all_sites(sites):\n",
    "    with requests.Session() as session:\n",
    "        for url in sites:\n",
    "            download_site(url, session)\n",
    "\n",
    "if __name__ == \"__main__\":\n",
    "    sites = [\n",
    "        \"https://www.jython.org\",\n",
    "        \"http://olympus.realpython.org/dice\",\n",
    "    ] * 10\n",
    "    start_time = time.time()\n",
    "    download_all_sites(sites)\n",
    "    duration = time.time() - start_time\n",
    "    print(f\"total len:{total_len}\")\n",
    "    print(f\"Downloaded {len(sites)} in {duration} seconds\")"
   ]
  },
  {
   "cell_type": "markdown",
   "metadata": {},
   "source": [
    "### Threading Version"
   ]
  },
  {
   "cell_type": "code",
   "execution_count": 4,
   "metadata": {},
   "outputs": [
    {
     "name": "stdout",
     "output_type": "stream",
     "text": [
      "Read 277 from http://olympus.realpython.org/dice\n",
      "Read 277 from http://olympus.realpython.org/dice\n",
      "Read 277 from http://olympus.realpython.org/dice\n",
      "Read 10394 from https://www.jython.org\n",
      "Read 10394 from https://www.jython.org\n",
      "Read 277 from http://olympus.realpython.org/dice\n",
      "Read 10394 from https://www.jython.org\n",
      "Read 277 from http://olympus.realpython.org/dice\n",
      "Read 10394 from https://www.jython.org\n",
      "Read 277 from http://olympus.realpython.org/dice\n",
      "Read 10394 from https://www.jython.org\n",
      "Read 277 from http://olympus.realpython.org/dice\n",
      "Read 277 from http://olympus.realpython.org/dice\n",
      "Read 10394 from https://www.jython.org\n",
      "Read 277 from http://olympus.realpython.org/dice\n",
      "Read 277 from http://olympus.realpython.org/dice\n",
      "Read 10394 from https://www.jython.org\n",
      "Read 10394 from https://www.jython.org\n",
      "Read 10394 from https://www.jython.org\n",
      "Read 10394 from https://www.jython.org\n",
      "total len:106710\n",
      "Downloaded 20 in 6.115782022476196 seconds\n"
     ]
    }
   ],
   "source": [
    "import concurrent.futures\n",
    "import requests\n",
    "import threading\n",
    "import time\n",
    "\n",
    "lock = threading.RLock()\n",
    "thread_local = threading.local()\n",
    "\n",
    "total_len = 0\n",
    "def get_session():\n",
    "    if not hasattr(thread_local, \"session\"):\n",
    "        thread_local.session = requests.Session()\n",
    "    return thread_local.session\n",
    "\n",
    "def download_site(url):\n",
    "    session = get_session()\n",
    "    with session.get(url) as response:\n",
    "        print(f\"Read {len(response.content)} from {url}\")\n",
    "        global total_len\n",
    "        with lock:\n",
    "            total_len += len(response.content)\n",
    "\n",
    "def download_all_sites(sites):\n",
    "    with concurrent.futures.ThreadPoolExecutor(max_workers=5) as executor:\n",
    "        executor.map(download_site, sites)\n",
    "\n",
    "if __name__ == \"__main__\":\n",
    "    sites = [\n",
    "        \"https://www.jython.org\",\n",
    "        \"http://olympus.realpython.org/dice\",\n",
    "    ] * 10\n",
    "    start_time = time.time()\n",
    "    download_all_sites(sites)\n",
    "    duration = time.time() - start_time\n",
    "    print(f\"total len:{total_len}\")\n",
    "    print(f\"Downloaded {len(sites)} in {duration} seconds\")"
   ]
  },
  {
   "cell_type": "markdown",
   "metadata": {},
   "source": [
    "#### What it looks like\n",
    "\n",
    "![](./res/threadings_lookslike.png)"
   ]
  },
  {
   "cell_type": "markdown",
   "metadata": {},
   "source": [
    "#### downsides\n",
    "    - need take care of the data sharing(race conditions) between threads"
   ]
  },
  {
   "cell_type": "markdown",
   "metadata": {},
   "source": [
    "### multiprocessing version"
   ]
  },
  {
   "cell_type": "markdown",
   "metadata": {},
   "source": [
    "```python\n",
    "import requests\n",
    "import multiprocessing\n",
    "import concurrent.futures\n",
    "import time\n",
    "\n",
    "session = None\n",
    "len_queue = multiprocessing.Queue()\n",
    "\n",
    "def set_global_session():\n",
    "    global session\n",
    "    if not session:\n",
    "        session = requests.Session()\n",
    "\n",
    "def download_site(url):\n",
    "    with session.get(url) as response:\n",
    "        name = multiprocessing.current_process().name\n",
    "        print(f\"{name}:Read {len(response.content)} from {url}\")\n",
    "        return len(response.content)\n",
    "\n",
    "def download_all_sites(sites):\n",
    "    # Both the following ways are OK\n",
    "    # with multiprocessing.Pool(initializer=set_global_session) as pool:\n",
    "    with concurrent.futures.ProcessPoolExecutor(initializer=set_global_session) as pool:\n",
    "        res = pool.map(download_site, sites)\n",
    "        print('total_len:', sum(res))\n",
    "\n",
    "\n",
    "if __name__ == \"__main__\":\n",
    "    sites = [\n",
    "        \"https://www.jython.org\",\n",
    "        \"http://olympus.realpython.org/dice\",\n",
    "    ] * 10\n",
    "    start_time = time.time()\n",
    "    download_all_sites(sites)\n",
    "    duration = time.time() - start_time\n",
    "    print(f\"Downloaded {len(sites)} in {duration} seconds\")\n",
    "```"
   ]
  },
  {
   "cell_type": "markdown",
   "metadata": {},
   "source": [
    "Output:\n",
    "\n",
    "```\n",
    "SpawnProcess-1:Read 277 from http://olympus.realpython.org/dice\n",
    "SpawnProcess-7:Read 277 from http://olympus.realpython.org/dice\n",
    "SpawnProcess-4:Read 277 from http://olympus.realpython.org/dice\n",
    "SpawnProcess-8:Read 277 from http://olympus.realpython.org/dice\n",
    "SpawnProcess-7:Read 277 from http://olympus.realpython.org/dice\n",
    "SpawnProcess-8:Read 277 from http://olympus.realpython.org/dice\n",
    "SpawnProcess-2:Read 10394 from https://www.jython.org\n",
    "SpawnProcess-6:Read 10394 from https://www.jython.org\n",
    "SpawnProcess-5:Read 10394 from https://www.jython.org\n",
    "SpawnProcess-8:Read 277 from http://olympus.realpython.org/dice\n",
    "SpawnProcess-2:Read 10394 from https://www.jython.org\n",
    "SpawnProcess-8:Read 277 from http://olympus.realpython.org/dice\n",
    "SpawnProcess-2:Read 10394 from https://www.jython.org\n",
    "SpawnProcess-6:Read 277 from http://olympus.realpython.org/dice\n",
    "SpawnProcess-4:Read 10394 from https://www.jython.org\n",
    "SpawnProcess-8:Read 277 from http://olympus.realpython.org/dice\n",
    "SpawnProcess-1:Read 10394 from https://www.jython.org\n",
    "SpawnProcess-5:Read 10394 from https://www.jython.org\n",
    "SpawnProcess-3:Read 10394 from https://www.jython.org\n",
    "SpawnProcess-7:Read 10394 from https://www.jython.org\n",
    "total_len: 106710\n",
    "Downloaded 20 in 9.592671155929565 seconds\n",
    "```"
   ]
  },
  {
   "cell_type": "markdown",
   "metadata": {},
   "source": [
    "#### What it looks like:\n",
    "![](./res/multiple_processing.png)"
   ]
  },
  {
   "cell_type": "markdown",
   "metadata": {},
   "source": [
    "#### Discussion\n",
    "    - run across multiple CPUs\n",
    "    - heavyweight than multiple threads\n",
    "    - processes number is determine by your number of CPUs in your computer default\n",
    "    - The data sharing need serialize and deserialize between processes\n",
    "    "
   ]
  },
  {
   "cell_type": "markdown",
   "metadata": {},
   "source": [
    "### asyncio version"
   ]
  },
  {
   "cell_type": "code",
   "execution_count": 5,
   "metadata": {},
   "outputs": [
    {
     "name": "stdout",
     "output_type": "stream",
     "text": [
      "Read 277 from http://olympus.realpython.org/dice\n",
      "Read 277 from http://olympus.realpython.org/dice\n",
      "Read 277 from http://olympus.realpython.org/dice\n",
      "Read 277 from http://olympus.realpython.org/dice\n",
      "Read 277 from http://olympus.realpython.org/dice\n",
      "Read 277 from http://olympus.realpython.org/dice\n",
      "Read 277 from http://olympus.realpython.org/dice\n",
      "Read 277 from http://olympus.realpython.org/dice\n",
      "Read 277 from http://olympus.realpython.org/dice\n",
      "Read 277 from http://olympus.realpython.org/dice\n",
      "Read 10394 from https://www.jython.org\n",
      "Read 10394 from https://www.jython.org\n",
      "Read 10394 from https://www.jython.org\n",
      "Read 10394 from https://www.jython.org\n",
      "Read 10394 from https://www.jython.org\n",
      "Read 10394 from https://www.jython.org\n",
      "Read 10394 from https://www.jython.org\n",
      "Read 10394 from https://www.jython.org\n",
      "Read 10394 from https://www.jython.org\n",
      "Read 10394 from https://www.jython.org\n",
      "total len: 106710\n",
      "Downloaded 20 sites in 6.818734407424927 seconds\n"
     ]
    }
   ],
   "source": [
    "import asyncio\n",
    "import time\n",
    "import aiohttp\n",
    "import nest_asyncio\n",
    "nest_asyncio.apply() # to fix “RuntimeError: This event loop is already running”.\n",
    "\n",
    "async def download_site(session, url):\n",
    "    async with session.get(url) as response:\n",
    "        text = await response.text()\n",
    "        print(\"Read {0} from {1}\".format(len(text), url))\n",
    "        return text\n",
    "\n",
    "async def download_all_sites(sites):\n",
    "    async with aiohttp.ClientSession() as session:\n",
    "        tasks = []\n",
    "        for url in sites:\n",
    "            # Both the following methods are OK: wrap the coro into a task and schedule its execution.\n",
    "            # task = asyncio.ensure_future(download_site(session, url))\n",
    "            task = asyncio.create_task(download_site(session, url))\n",
    "            tasks.append(task)\n",
    "        res = await asyncio.gather(*tasks, return_exceptions=True)\n",
    "        print('total len:', sum(map(len, res)))\n",
    "        return res\n",
    "\n",
    "if __name__ == \"__main__\":\n",
    "    sites = [\n",
    "        \"https://www.jython.org\",\n",
    "        \"http://olympus.realpython.org/dice\",\n",
    "    ] * 10\n",
    "    start_time = time.time()\n",
    "    # Both the following methods are OK\n",
    "    # res = asyncio.get_event_loop().run_until_complete(download_all_sites(sites))\n",
    "    res = asyncio.run(download_all_sites(sites)) # 3.7\n",
    "    \n",
    "\n",
    "    # print(res)\n",
    "    duration = time.time() - start_time\n",
    "    print(f\"Downloaded {len(sites)} sites in {duration} seconds\")"
   ]
  },
  {
   "cell_type": "markdown",
   "metadata": {},
   "source": [
    "#### Discussion"
   ]
  },
  {
   "cell_type": "markdown",
   "metadata": {},
   "source": [
    "- loop\n",
    "    - a global per-process object that controls the management of the event loop\n",
    "        - The default asyncio policy. Uses `SelectorEventLoop` on Unix and `ProactorEventLoop` on Windows.\n",
    "            - I/O multiplexing, built on `select`\n",
    "            - wait for I/O readiness notification on multiple file objects(any object with a `fileno()` method)."
   ]
  },
  {
   "cell_type": "markdown",
   "metadata": {},
   "source": [
    "- `async`\n",
    "    - coroutine function definition\n",
    "        - subroutines, have 3 status:\n",
    "            - PENDING\n",
    "            - CANCELLED\n",
    "            - FINISHED"
   ]
  },
  {
   "cell_type": "markdown",
   "metadata": {},
   "source": [
    "- `await <await obj>`\n",
    "\n",
    "```python\n",
    "async def read_data(db):\n",
    "    data = await db.fetch('SELECT ...')\n",
    "    ...\n",
    "```\n",
    "\n",
    "    - to obtain a result of coroutine execution\n",
    "    - similarily to `yield from`, suspends current execution `read_data` coroutine until `db.fetch` awaitable completes and return the result\n",
    "        - uses the yield from implementation with an extra step of validating(See PEP492)"
   ]
  },
  {
   "cell_type": "markdown",
   "metadata": {},
   "source": [
    "- `async with `\n",
    "    - similarity to `with`, but an asynchronous context manager\n",
    "    - suspend execution in its enter and exit methods\n",
    "    - Both `__aenter__` and `__aexit__` return an awaitable."
   ]
  },
  {
   "cell_type": "markdown",
   "metadata": {},
   "source": [
    "    - understand the `async with` flow\n",
    "```python\n",
    "async with EXPR as VAR:\n",
    "    BLOCK\n",
    "```\n",
    "\n",
    "    semantically equivalent to:\n",
    "\n",
    "```python\n",
    "mgr = (EXPR)\n",
    "aexit = type(mgr).__aexit__\n",
    "aenter = type(mgr).__aenter__\n",
    "\n",
    "VAR = await aenter(mgr)\n",
    "try:\n",
    "    BLOCK\n",
    "except:\n",
    "    if not await aexit(mgr, *sys.exc_info()):\n",
    "        raise\n",
    "else:\n",
    "    await aexit(mgr, None, None, None)\n",
    "```"
   ]
  },
  {
   "cell_type": "markdown",
   "metadata": {},
   "source": [
    "- `asyncio.gather`\n",
    "    - Run awaitable objects concurrently"
   ]
  },
  {
   "cell_type": "markdown",
   "metadata": {},
   "source": [
    "#### What the executions looks like\n",
    "![](res/asyncio_version.png)"
   ]
  },
  {
   "cell_type": "markdown",
   "metadata": {},
   "source": [
    "#### downsides\n",
    "    - need special async libraries, we use `aiohttp` instead of `requests`, which is not designed to notify the event loop\n",
    "    - need cooperate in tasks(like, giving up the processor)"
   ]
  },
  {
   "cell_type": "markdown",
   "metadata": {},
   "source": [
    "### CPU-Bound Demos"
   ]
  },
  {
   "cell_type": "markdown",
   "metadata": {},
   "source": [
    "```python\n",
    "import multiprocessing\n",
    "import concurrent.futures\n",
    "from datetime import datetime\n",
    "from functools import partial\n",
    "\n",
    "def timethis(func):\n",
    "    def wrapper(*args, **kwargs):\n",
    "        begin = datetime.now()\n",
    "        res = func(*args, **kwargs)\n",
    "        print(f'{func.__name__} costs:{datetime.now() - begin}')\n",
    "        return res\n",
    "    return wrapper\n",
    "\n",
    "def square_sums(nums, idxs):\n",
    "    return sum(i*i for i in nums[idxs])\n",
    "\n",
    "def split_data(nums, part_num):\n",
    "    batch = len(nums)//part_num\n",
    "    samples = [slice(i*batch, i*batch+batch) for i in range(part_num-1)]\n",
    "    samples.append(slice(samples[-1].stop, -1))\n",
    "    return samples\n",
    "\n",
    "@timethis\n",
    "def multiple_process(nums):\n",
    "    cpu_num = multiprocessing.cpu_count()\n",
    "    print(f'multiple processes: {cpu_num}')\n",
    "    samples = split_data(nums, cpu_num)\n",
    "\n",
    "    with concurrent.futures.ProcessPoolExecutor() as pool:\n",
    "        res = pool.map(partial(square_sums, nums), samples)\n",
    "        print(sum(res))\n",
    "\n",
    "@timethis\n",
    "def multiple_threads(nums):\n",
    "    part_num = 4\n",
    "    print(f'multiple threads:{part_num}')\n",
    "    samples = split_data(nums, part_num)\n",
    "\n",
    "    with concurrent.futures.ThreadPoolExecutor(max_workers=part_num) as pool:\n",
    "        res = pool.map(partial(square_sums, nums), samples)\n",
    "        print(sum(res))\n",
    "\n",
    "@timethis\n",
    "def single_process(nums):\n",
    "    print('single process, single thread')\n",
    "    print(square_sums(nums, slice(0, -1)))\n",
    "\n",
    "if __name__ == '__main__':\n",
    "    numbers = range(100_000_000)\n",
    "    import sys\n",
    "    concurrent_type = sys.argv[1]\n",
    "    if concurrent_type == 'multiple_processing':\n",
    "        multiple_process(numbers)\n",
    "    elif concurrent_type == 'multiple_threads':\n",
    "        multiple_threads(numbers)\n",
    "    else:\n",
    "        single_process(numbers)\n",
    "```"
   ]
  },
  {
   "cell_type": "markdown",
   "metadata": {},
   "source": [
    "Its results:\n",
    "```bash\n",
    "(base) PS C:\\Users\\willchen\\Work\\learn\\python\\GoodPractisePython_V2.1\\scripts> python .\\test_multiple_process_computing.py single_thread\n",
    "single process, single thread\n",
    "333333318333333549999999\n",
    "single_process costs:0:00:11.483893\n",
    "\n",
    "(base) PS C:\\Users\\willchen\\Work\\learn\\python\\GoodPractisePython_V2.1\\scripts> python .\\test_multiple_process_computing.py multiple_threads\n",
    "multiple threads:4\n",
    "333333318333333549999999\n",
    "multiple_threads costs:0:00:11.177844\n",
    "\n",
    "(base) PS C:\\Users\\willchen\\Work\\learn\\python\\GoodPractisePython_V2.1\\scripts> python .\\test_multiple_process_computing.py multiple_processing\n",
    "multiple processes: 8\n",
    "333333318333333549999999\n",
    "multiple_process costs:0:00:03.577478\n",
    "```"
   ]
  },
  {
   "cell_type": "markdown",
   "metadata": {},
   "source": [
    "## Summary"
   ]
  },
  {
   "cell_type": "markdown",
   "metadata": {},
   "source": [
    "- Hold out on adding concurrency until you have a known performance issue\n",
    "- Figure out if your program is CPU-bound or I/O-bound\n",
    "- CPU-bound problems only really gain from using multiprocessing. threading and asyncio did not help this type of problem at all.\n",
    "- For I/O-bound problems:\n",
    "    - there’s a general rule of thumb in the Python community: “Use asyncio when you can, threading when you must.” \n",
    "    - asyncio can provide the best speed up for this type of program, but sometimes you will require critical libraries that have not been ported to take advantage of asyncio.\n",
    "    - Remember that any task that doesn’t give up control to the event loop will block all of the other tasks.\n",
    "    - [tornado](https://tramweb-dev-tw.asml.com/ppt/users/weliu/slides/src/branch/master/tramweb/index.slide#17), Python web framework and asynchronous networking library, can be an option in Python2.7. "
   ]
  }
 ],
 "metadata": {
  "kernelspec": {
   "display_name": "Python 3",
   "language": "python",
   "name": "python3"
  },
  "language_info": {
   "codemirror_mode": {
    "name": "ipython",
    "version": 3
   },
   "file_extension": ".py",
   "mimetype": "text/x-python",
   "name": "python",
   "nbconvert_exporter": "python",
   "pygments_lexer": "ipython3",
   "version": "3.7.4"
  },
  "toc": {
   "base_numbering": 1,
   "nav_menu": {},
   "number_sections": true,
   "sideBar": true,
   "skip_h1_title": false,
   "title_cell": "Table of Contents",
   "title_sidebar": "Contents",
   "toc_cell": true,
   "toc_position": {
    "height": "calc(100% - 180px)",
    "left": "10px",
    "top": "150px",
    "width": "165px"
   },
   "toc_section_display": true,
   "toc_window_display": true
  }
 },
 "nbformat": 4,
 "nbformat_minor": 4
}
