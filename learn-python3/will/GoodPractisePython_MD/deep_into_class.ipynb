{
 "cells": [
  {
   "cell_type": "markdown",
   "metadata": {
    "toc": true
   },
   "source": [
    "<h1>Table of Contents<span class=\"tocSkip\"></span></h1>\n",
    "<div class=\"toc\"><ul class=\"toc-item\"><li><span><a href=\"#Definition\" data-toc-modified-id=\"Definition-1\"><span class=\"toc-item-num\">1&nbsp;&nbsp;</span>Definition</a></span><ul class=\"toc-item\"><li><span><a href=\"#1.MRO\" data-toc-modified-id=\"1.MRO-1.1\"><span class=\"toc-item-num\">1.1&nbsp;&nbsp;</span>1.MRO</a></span><ul class=\"toc-item\"><li><span><a href=\"#A-Demo\" data-toc-modified-id=\"A-Demo-1.1.1\"><span class=\"toc-item-num\">1.1.1&nbsp;&nbsp;</span>A Demo</a></span></li></ul></li><li><span><a href=\"#2.Determining-the-appropriate-metaclass\" data-toc-modified-id=\"2.Determining-the-appropriate-metaclass-1.2\"><span class=\"toc-item-num\">1.2&nbsp;&nbsp;</span>2.Determining the appropriate metaclass</a></span></li><li><span><a href=\"#3.Preparing-the-class-namespace\" data-toc-modified-id=\"3.Preparing-the-class-namespace-1.3\"><span class=\"toc-item-num\">1.3&nbsp;&nbsp;</span>3.Preparing the class namespace</a></span></li><li><span><a href=\"#4.Executing-the-class-body\" data-toc-modified-id=\"4.Executing-the-class-body-1.4\"><span class=\"toc-item-num\">1.4&nbsp;&nbsp;</span>4.Executing the class body</a></span></li><li><span><a href=\"#5.Creating-the-class-object\" data-toc-modified-id=\"5.Creating-the-class-object-1.5\"><span class=\"toc-item-num\">1.5&nbsp;&nbsp;</span>5.Creating the class object</a></span></li></ul></li><li><span><a href=\"#Special-methods\" data-toc-modified-id=\"Special-methods-2\"><span class=\"toc-item-num\">2&nbsp;&nbsp;</span>Special methods</a></span><ul class=\"toc-item\"><li><span><a href=\"#Basic-customization\" data-toc-modified-id=\"Basic-customization-2.1\"><span class=\"toc-item-num\">2.1&nbsp;&nbsp;</span>Basic customization</a></span></li><li><span><a href=\"#Customizing-attribute-access\" data-toc-modified-id=\"Customizing-attribute-access-2.2\"><span class=\"toc-item-num\">2.2&nbsp;&nbsp;</span>Customizing attribute access</a></span></li><li><span><a href=\"#Emulating-callable-objects\" data-toc-modified-id=\"Emulating-callable-objects-2.3\"><span class=\"toc-item-num\">2.3&nbsp;&nbsp;</span>Emulating callable objects</a></span></li><li><span><a href=\"#Emulating-container-types\" data-toc-modified-id=\"Emulating-container-types-2.4\"><span class=\"toc-item-num\">2.4&nbsp;&nbsp;</span>Emulating container types</a></span></li><li><span><a href=\"#Emulating-numeric-types\" data-toc-modified-id=\"Emulating-numeric-types-2.5\"><span class=\"toc-item-num\">2.5&nbsp;&nbsp;</span>Emulating numeric types</a></span></li><li><span><a href=\"#With-Statement-Context-Managers\" data-toc-modified-id=\"With-Statement-Context-Managers-2.6\"><span class=\"toc-item-num\">2.6&nbsp;&nbsp;</span>With Statement Context Managers</a></span><ul class=\"toc-item\"><li><span><a href=\"#Another-method\" data-toc-modified-id=\"Another-method-2.6.1\"><span class=\"toc-item-num\">2.6.1&nbsp;&nbsp;</span>Another method</a></span></li></ul></li></ul></li><li><span><a href=\"#Magic-functions\" data-toc-modified-id=\"Magic-functions-3\"><span class=\"toc-item-num\">3&nbsp;&nbsp;</span>Magic functions</a></span><ul class=\"toc-item\"><li><span><a href=\"#__slots__\" data-toc-modified-id=\"__slots__-3.1\"><span class=\"toc-item-num\">3.1&nbsp;&nbsp;</span>__slots__</a></span></li></ul></li><li><span><a href=\"#Multiple-consturctor\" data-toc-modified-id=\"Multiple-consturctor-4\"><span class=\"toc-item-num\">4&nbsp;&nbsp;</span>Multiple consturctor</a></span></li></ul></div>"
   ]
  },
  {
   "cell_type": "markdown",
   "metadata": {},
   "source": [
    "# Definition"
   ]
  },
  {
   "cell_type": "code",
   "execution_count": 41,
   "metadata": {},
   "outputs": [],
   "source": [
    "class A:\n",
    "    def self_foo(self):\n",
    "        pass\n",
    "    @staticmethod\n",
    "    def static_new():\n",
    "        pass\n",
    "    @classmethod\n",
    "    def classmethod_new(cls):\n",
    "        pass\n"
   ]
  },
  {
   "cell_type": "markdown",
   "metadata": {},
   "source": [
    "When a class definition is executed, the following steps occur:\n",
    "1. MRO entries are resolved;\n",
    "2. the appropriate metaclass is determined;\n",
    "3. the class namespace is prepared;\n",
    "4. the class body is executed;\n",
    "5. the class object is created.\n"
   ]
  },
  {
   "cell_type": "markdown",
   "metadata": {},
   "source": [
    "## 1.MRO\n",
    "Method Resolution Order is the order in which base classes are searched for a member during lookup. See [Python 2.3 Method Resolution Order](https://www.python.org/download/releases/2.3/mro/) for details.\n",
    "### A Demo"
   ]
  },
  {
   "cell_type": "code",
   "execution_count": null,
   "metadata": {},
   "outputs": [],
   "source": [
    "from socketserver import ThreadingMixIn\n",
    "from wsgiref.simple_server import WSGIServer\n",
    "\n",
    "class ThreadingServer(ThreadingMixIn, WSGIServer):\n",
    "    pass"
   ]
  },
  {
   "cell_type": "code",
   "execution_count": null,
   "metadata": {},
   "outputs": [],
   "source": [
    "class ThreadingMixIn:\n",
    "    \"\"\"Mix-in class to handle each request in a new thread.\"\"\"\n",
    "\n",
    "    # Decides how threads will act upon termination of the\n",
    "    # main process\n",
    "    daemon_threads = False\n",
    "\n",
    "    def process_request_thread(self, request, client_address):\n",
    "        \"\"\"Same as in BaseServer but as a thread.\n",
    "\n",
    "        In addition, exception handling is done here.\n",
    "\n",
    "        \"\"\"\n",
    "        try:\n",
    "            self.finish_request(request, client_address)\n",
    "            self.shutdown_request(request)\n",
    "        except:\n",
    "            self.handle_error(request, client_address)\n",
    "            self.shutdown_request(request)\n",
    "\n",
    "    def process_request(self, request, client_address):\n",
    "        \"\"\"Start a new thread to process the request.\"\"\"\n",
    "        t = threading.Thread(target = self.process_request_thread,\n",
    "                             args = (request, client_address))\n",
    "        t.daemon = self.daemon_threads\n",
    "        t.start()"
   ]
  },
  {
   "cell_type": "markdown",
   "metadata": {},
   "source": [
    "ThreadingMinIn only have 2 methods, but calls 4 methods."
   ]
  },
  {
   "cell_type": "code",
   "execution_count": null,
   "metadata": {},
   "outputs": [],
   "source": [
    "list(filter(lambda attr: not attr.startswith('_'), dir(WSGIServer)))"
   ]
  },
  {
   "cell_type": "code",
   "execution_count": 27,
   "metadata": {},
   "outputs": [
    {
     "data": {
      "text/plain": [
       "(__main__.ThreadingServer,\n",
       " socketserver.ThreadingMixIn,\n",
       " wsgiref.simple_server.WSGIServer,\n",
       " http.server.HTTPServer,\n",
       " socketserver.TCPServer,\n",
       " socketserver.BaseServer,\n",
       " object)"
      ]
     },
     "execution_count": 27,
     "metadata": {},
     "output_type": "execute_result"
    }
   ],
   "source": [
    "ThreadingServer.__mro__"
   ]
  },
  {
   "cell_type": "markdown",
   "metadata": {},
   "source": [
    "## 2.Determining the appropriate metaclass"
   ]
  },
  {
   "cell_type": "markdown",
   "metadata": {},
   "source": [
    "## 3.Preparing the class namespace\n",
    "- namespace = metaclass.\\_\\_prepare\\_\\_(name, bases, **kwds), should be a dict\n",
    "- The namespace returned by \\_\\_prepare\\_\\_ is passed in to \\_\\_new\\_\\_, \n",
    "- but when the final class object is created the namespace is copied into a new dict."
   ]
  },
  {
   "cell_type": "markdown",
   "metadata": {},
   "source": [
    "## 4.Executing the class body\n",
    "- The class body is executed (approximately) as exec(body, globals(), namespace). "
   ]
  },
  {
   "cell_type": "markdown",
   "metadata": {},
   "source": [
    "- A `exec` demo"
   ]
  },
  {
   "cell_type": "code",
   "execution_count": 3,
   "metadata": {},
   "outputs": [
    {
     "name": "stdout",
     "output_type": "stream",
     "text": [
      "14\n",
      "---tmp_namespace {'a': 1, 'b': 2, 'hi': 'hi'}\n"
     ]
    }
   ],
   "source": [
    "tmp_namespace = {}\n",
    "def say_hi():\n",
    "    return 'hi'\n",
    "tmp_global = {'say_hi': say_hi}\n",
    "exec('a=1; b=2; hi=say_hi();print(4+5*2)', tmp_global, tmp_namespace)\n",
    "print('---tmp_namespace', tmp_namespace)\n",
    "# print('---tmp_global:', tmp_global)"
   ]
  },
  {
   "cell_type": "markdown",
   "metadata": {},
   "source": [
    "exec(object[, globals[, locals]])\n",
    "- If globals and locals are given, they are used for the global and local variables, respectively. \n",
    "- Remember that at module level, globals and locals are the same dictionary. \n",
    "- If exec gets two separate objects as globals and locals, the code will be executed as if it were embedded in a class definition"
   ]
  },
  {
   "cell_type": "markdown",
   "metadata": {},
   "source": [
    "## 5.Creating the class object\n",
    "- The class object is created by calling metaclass(name, bases, namespace, **kwds)\n",
    "- After the class object is created, it is passed to the class decorators included in the class definition (if any) and the resulting object is bound in the local namespace as the defined class."
   ]
  },
  {
   "cell_type": "markdown",
   "metadata": {},
   "source": [
    "- A demo: create class object manually"
   ]
  },
  {
   "cell_type": "code",
   "execution_count": 68,
   "metadata": {},
   "outputs": [],
   "source": [
    "def foo1(self):\n",
    "    print(\"foo1\")\n",
    "    pass\n",
    "tmp_namespace = {'foo1':foo1, 'name': 'hi'}\n",
    "FooClass=type('FooClass', (object,), tmp_namespace)"
   ]
  },
  {
   "cell_type": "code",
   "execution_count": 71,
   "metadata": {},
   "outputs": [
    {
     "name": "stdout",
     "output_type": "stream",
     "text": [
      "foo1\n",
      "hi\n"
     ]
    }
   ],
   "source": [
    "f = FooClass()\n",
    "f.foo1()\n",
    "print(f.name)"
   ]
  },
  {
   "cell_type": "markdown",
   "metadata": {},
   "source": [
    "# Special methods"
   ]
  },
  {
   "cell_type": "markdown",
   "metadata": {},
   "source": [
    "## Basic customization"
   ]
  },
  {
   "cell_type": "markdown",
   "metadata": {},
   "source": [
    "1. **object.\\_\\_new\\_\\_(cls[, ...])**\n",
    "- If \\_\\_new\\_\\_() is invoked during object construction and it returns an instance or subclass of cls, then the new instance’s \\_\\_init\\_\\_() method will be invoked like \\_\\_init\\_\\_(self[, ...]), where self is the new instance and the remaining arguments are the same as were passed to the object constructor.\n",
    "- If \\_\\_new\\_\\_() does not return an instance of cls, then the new instance’s \\_\\_init\\_\\_() method will not be invoked.\n",
    "- \\_\\_new_\\_() is intended mainly to allow subclasses of immutable types (like int, str, or tuple) to customize instance creation. It is also commonly overridden in custom metaclasses in order to customize class creation.\n",
    "\n",
    "2. object.\\_\\_del\\_\\_(self)\n",
    "- Called when the instance is about to be destroyed.\n",
    "- If a base class has a __del__() method, the derived class’s __del__() method, if any, must explicitly call it to ensure proper deletion of the base class part of the instance.\n",
    "\n",
    "3. object.\\_\\_repr\\_\\_(self)\n",
    "- Called by the repr() built-in function to compute the “official” string representation of an object\n",
    "- If a class defines __repr__() but not __str__(), then __repr__() is also used when an “informal” string representation of instances of that class is required.\n",
    "\n",
    "4. object.\\_\\_str\\_\\_(self)\n",
    "- Called by str(object) and the built-in functions format() and print() to compute the “informal” or nicely printable string representation of an object\n",
    "- The default implementation defined by the built-in type object calls object.\\_\\_repr\\_\\_().\n",
    "\n",
    "5. “rich comparison” methods\n",
    "- object.\\_\\_lt\\_\\_(self, other)\n",
    "- object.\\_\\_le\\_\\_(self, other)\n",
    "- object.\\_\\_eq\\_\\_(self, other)\n",
    "- object.\\_\\_ne\\_\\_(self, other)\n",
    "- object.\\_\\_gt\\_\\_(self, other)\n",
    "- object.\\_\\_ge\\_\\_(self, other)\n",
    "\n",
    "6. object.\\_\\_hash\\_\\_(self)\n",
    "- Called by built-in function hash() \n",
    "- it is advised to mix together the hash values of the components of the object\n",
    "- Changing hash values affects the iteration order of sets\n",
    "- ...\n",
    "\n",
    "7. object.\\_\\_bool\\_\\_(self)\n",
    "- Called to implement truth value testing and the built-in operation bool(); \n",
    "- should return False or True. When this method is not defined, __len__() is called, if it is defined, and the object is considered true if its result is nonzero.\n",
    "- If a class defines neither __len__() nor __bool__(), all its instances are considered true.\n"
   ]
  },
  {
   "cell_type": "markdown",
   "metadata": {},
   "source": [
    "## Customizing attribute access\n",
    "**1. object.\\_\\_getattr\\_\\_(self, name)**\n",
    "- Called when the default attribute access fails\n",
    "    - \\_\\_getattribute\\_\\_() raises an AttributeError because name is:\n",
    "        - not an instance attribute\n",
    "        - or not an attribute in the class tree for self\n",
    "    - \\_\\_get\\_\\_() of a name property raises AttributeError\n",
    "- a way to access other attributes of the instance"
   ]
  },
  {
   "cell_type": "markdown",
   "metadata": {},
   "source": [
    "Demo"
   ]
  },
  {
   "cell_type": "code",
   "execution_count": 90,
   "metadata": {},
   "outputs": [
    {
     "name": "stdout",
     "output_type": "stream",
     "text": [
      "=== {}\n",
      "select\n",
      "update\n",
      "delete\n"
     ]
    }
   ],
   "source": [
    "class SqliteDB:\n",
    "    pass\n",
    "class MySqlDB:\n",
    "    def select(self, sql):\n",
    "        print('select')\n",
    "    def update(self, sql):\n",
    "        print('update')\n",
    "    def delete(self, sql):\n",
    "        print('delete')\n",
    "\n",
    "class DBProxy:\n",
    "    def __init__(self, real_db):\n",
    "        self._real_db = real_db\n",
    "        print(\"===\", self._real_db.__dict__)\n",
    "    def __getattr__(self, name):\n",
    "        return getattr(self._real_db, name)\n",
    "\n",
    "db = DBProxy(MySqlDB())\n",
    "db.select('test')\n",
    "db.update('test')\n",
    "db.delete('test')"
   ]
  },
  {
   "cell_type": "markdown",
   "metadata": {},
   "source": [
    "2.object.\\_\\_getattribute\\_\\_(self, name)\n",
    "- Called unconditionally to implement attribute accesses for instances of the class.\n",
    "- If the class also defines \\_\\_getattr\\_\\_(), the latter will not be called unless \\_\\_getattribute\\_\\_() either calls it explicitly or raises an AttributeError.\n",
    "- In order to avoid infinite recursion in this method, its implementation should always call the base class method with the same name to access any attributes it needs, for example, object.\\_\\_getattribute\\_\\_(self, name).\n"
   ]
  },
  {
   "cell_type": "markdown",
   "metadata": {},
   "source": [
    "3.object.\\_\\_setattr\\_\\_(self, name, value)\n",
    "- Called when an attribute assignment is attempted.\n",
    "- If \\_\\_setattr\\_\\_() wants to assign to an instance attribute, it should call the base class method with the same name, for example, object.\\_\\_setattr\\_\\_(self, name, value).\n",
    "\n",
    "4.object.\\_\\_delattr\\_\\_(self, name)\n",
    "\n",
    "- Like __setattr__() but for attribute deletion instead of assignment. This should only be implemented if del obj.name is meaningful for the object.\n",
    "\n",
    "5.object.\\_\\_dir\\_\\_(self)\n",
    "\n",
    "- Called when dir() is called on the object. A sequence must be returned. dir() converts the returned sequence to a list and sorts it.\n"
   ]
  },
  {
   "cell_type": "markdown",
   "metadata": {},
   "source": [
    "## Emulating callable objects\n",
    "\n",
    "object.\\_\\_call\\_\\_(self[, args...])\n",
    "- Called when the instance is “called” as a function; \n",
    "- if this method is defined, x(arg1, arg2, ...) is a shorthand for x.__call__(arg1, arg2, ...).\n"
   ]
  },
  {
   "cell_type": "markdown",
   "metadata": {},
   "source": [
    "## Emulating container types\n",
    "\n",
    "1. object.\\_\\_len\\_\\_(self)\n",
    "\n",
    "2. object.\\_\\_length_hint\\_\\_(self)\n",
    "\n",
    "3. object.\\_\\_getitem\\_\\_(self, key)\n",
    "    - Called to implement evaluation of self[key]\n",
    " \n",
    "4. object.\\_\\_setitem\\_\\_(self, key, value)\n",
    "    - Called to implement assignment to self[key]\n",
    "    \n",
    "5. object.\\_\\_delitem\\_\\_(self, key)\n",
    "    - Called to implement deletion of self[key].\n",
    "\n",
    "6. object.\\_\\_missing\\_\\_(self, key)\n",
    "    - Called by dict.\\_\\_getitem\\_\\_() to implement self[key] for dict subclasses when key is not in the dictionary.\n",
    "    \n",
    "7. object.\\_\\_iter\\_\\_(self)\n",
    "    - This method is called when an iterator is required for a container.\n",
    "    - This method should return a new iterator object that can iterate over all the objects in the container.\n",
    "    - For mappings, it should iterate over the keys of the container.\n",
    "    - Iterator objects also need to implement this method; they are required to return themselves. For more information on iterator objects, see Iterator Types.\n",
    "    \n",
    "8. object.\\_\\_reversed\\_\\_(self)\n",
    "    - Called (if present) by the reversed() built-in to implement reverse iteration.\n",
    "    - It should return a new iterator object that iterates over all the objects in the container in reverse order.\n",
    "\n",
    "9. object.\\_\\_contains\\_\\_(self, item)\n",
    "    - Called to implement membership test operators. Should return true if item is in self, false otherwise.\n"
   ]
  },
  {
   "cell_type": "markdown",
   "metadata": {},
   "source": [
    "## Emulating numeric types\n",
    "- object.\\_\\_add\\_\\_(self, other)\n",
    "- object.\\_\\_sub\\_\\_(self, other)\n",
    "- object.\\_\\_mul\\_\\_(self, other)\n",
    "- ...\n",
    "\n",
    " (+, -, *, @, /, //, %, divmod(), pow(), **, <<, >>, &, ^, |). \n",
    " \n",
    " (+=, -=, *=, @=, /=, //=, %=, **=, <<=, >>=, &=, ^=, |=). \n",
    " \n",
    " ..."
   ]
  },
  {
   "cell_type": "markdown",
   "metadata": {},
   "source": [
    "## With Statement Context Managers\n",
    "A context manager is an object that defines the runtime context to be established when executing a with statement\n",
    "\n",
    "1. object.\\_\\_enter\\_\\_(self)\n",
    "- Enter the runtime context related to this object.\n",
    "- The with statement will bind this method’s return value to the target(s) specified in the as clause of the statement, if any.\n",
    "2. object.\\_\\_exit\\_\\_(self, exc_type, exc_value, traceback)\n",
    "- Exit the runtime context related to this object.\n",
    "- The parameters describe the exception that caused the context to be exited.\n",
    "- If the context was exited without an exception, all three arguments will be None.\n",
    "- If an exception is supplied, and the method wishes to suppress the exception (i.e., prevent it from being propagated), it should return a true value. Otherwise, the exception will be processed normally upon exit from this method.\n",
    "- Should not reraise the passed-in exception; this is the caller’s responsibility.\n"
   ]
  },
  {
   "cell_type": "markdown",
   "metadata": {},
   "source": [
    "**Demo**: python RLock implement code fragment"
   ]
  },
  {
   "cell_type": "code",
   "execution_count": 101,
   "metadata": {},
   "outputs": [],
   "source": [
    "class RLock:\n",
    "    def __init__(self):\n",
    "        pass\n",
    "\n",
    "    def acquire(self, blocking=True, timeout=-1):\n",
    "        print(\"---fake acquire\")\n",
    "        pass\n",
    "    __enter__ = acquire\n",
    "\n",
    "    def release(self):\n",
    "        print(\"---fake release\")\n",
    "        pass\n",
    "    def __exit__(self, t, v, tb):\n",
    "        self.release()"
   ]
  },
  {
   "cell_type": "code",
   "execution_count": 105,
   "metadata": {},
   "outputs": [
    {
     "name": "stdout",
     "output_type": "stream",
     "text": [
      "---fake acquire\n",
      "Do someting\n",
      "---fake release\n"
     ]
    }
   ],
   "source": [
    "lock = RLock()\n",
    "lock.acquire()\n",
    "print('Do someting')\n",
    "lock.release()"
   ]
  },
  {
   "cell_type": "markdown",
   "metadata": {},
   "source": [
    "Simplifier and safer by:"
   ]
  },
  {
   "cell_type": "code",
   "execution_count": 107,
   "metadata": {},
   "outputs": [
    {
     "name": "stdout",
     "output_type": "stream",
     "text": [
      "---fake acquire\n",
      "Do someting\n",
      "---fake release\n"
     ]
    }
   ],
   "source": [
    "with RLock():\n",
    "    print('Do someting')"
   ]
  },
  {
   "cell_type": "markdown",
   "metadata": {},
   "source": [
    "### Another method"
   ]
  },
  {
   "cell_type": "code",
   "execution_count": 1,
   "metadata": {},
   "outputs": [],
   "source": [
    "from contextlib import contextmanager\n",
    "class RLock_A:\n",
    "    def __init__(self):\n",
    "        pass\n",
    "\n",
    "    def acquire(self, blocking=True, timeout=-1):\n",
    "        print(\"---fake acquire\")\n",
    "        pass\n",
    "\n",
    "    def release(self):\n",
    "        print(\"---fake release\")\n",
    "        pass\n",
    "\n",
    "    @contextmanager\n",
    "    def lock(self):\n",
    "        try:\n",
    "            self.acquire()\n",
    "            yield\n",
    "        finally:\n",
    "            self.release()\n",
    "    "
   ]
  },
  {
   "cell_type": "code",
   "execution_count": 5,
   "metadata": {},
   "outputs": [
    {
     "name": "stdout",
     "output_type": "stream",
     "text": [
      "---fake acquire\n",
      "Do someting\n",
      "---fake release\n"
     ]
    }
   ],
   "source": [
    "A = RLock_A()\n",
    "with A.lock():\n",
    "    print('Do someting')"
   ]
  },
  {
   "cell_type": "markdown",
   "metadata": {},
   "source": [
    "# Magic functions"
   ]
  },
  {
   "cell_type": "markdown",
   "metadata": {},
   "source": [
    "## \\_\\_slots\\_\\_\n",
    "- Decrease memory usage\n",
    "- Cannot add attributes dynamically"
   ]
  },
  {
   "cell_type": "markdown",
   "metadata": {},
   "source": [
    "Demo"
   ]
  },
  {
   "cell_type": "code",
   "execution_count": 2,
   "metadata": {},
   "outputs": [],
   "source": [
    "class Student(object):\n",
    "    __slots__ = ('name', 'age')\n",
    "\n",
    "s = Student()\n",
    "s.name = 'Who'\n",
    "s.age = 23"
   ]
  },
  {
   "cell_type": "code",
   "execution_count": 3,
   "metadata": {},
   "outputs": [
    {
     "ename": "AttributeError",
     "evalue": "'Student' object has no attribute 'score'",
     "output_type": "error",
     "traceback": [
      "\u001b[1;31m---------------------------------------------------------------------------\u001b[0m",
      "\u001b[1;31mAttributeError\u001b[0m                            Traceback (most recent call last)",
      "\u001b[1;32m<ipython-input-3-103cb7d42de3>\u001b[0m in \u001b[0;36m<module>\u001b[1;34m\u001b[0m\n\u001b[1;32m----> 1\u001b[1;33m \u001b[0ms\u001b[0m\u001b[1;33m.\u001b[0m\u001b[0mscore\u001b[0m\u001b[1;33m=\u001b[0m\u001b[1;36m90\u001b[0m\u001b[1;33m\u001b[0m\u001b[1;33m\u001b[0m\u001b[0m\n\u001b[0m",
      "\u001b[1;31mAttributeError\u001b[0m: 'Student' object has no attribute 'score'"
     ]
    }
   ],
   "source": [
    "s.score=90"
   ]
  },
  {
   "cell_type": "markdown",
   "metadata": {},
   "source": [
    "# Multiple consturctor"
   ]
  },
  {
   "cell_type": "code",
   "execution_count": 7,
   "metadata": {},
   "outputs": [
    {
     "name": "stdout",
     "output_type": "stream",
     "text": [
      "2008-7-1\n",
      "2020-3-23\n"
     ]
    }
   ],
   "source": [
    "class Date:\n",
    "    def __init__(self, y, m, d):\n",
    "        self.y = y\n",
    "        self.m = m\n",
    "        self.d = d\n",
    "    def __repr__(self):\n",
    "        return '{}-{}-{}'.format(self.y, self.m, self.d)\n",
    "    \n",
    "    @classmethod\n",
    "    def now(cls):\n",
    "        from datetime import datetime\n",
    "        now = datetime.now()\n",
    "        return cls(now.year, now.month, now.day)\n",
    "\n",
    "print(Date(2008, 7, 1))\n",
    "print(Date.now())"
   ]
  },
  {
   "cell_type": "code",
   "execution_count": null,
   "metadata": {},
   "outputs": [],
   "source": []
  }
 ],
 "metadata": {
  "kernelspec": {
   "display_name": "Python 3",
   "language": "python",
   "name": "python3"
  },
  "language_info": {
   "codemirror_mode": {
    "name": "ipython",
    "version": 3
   },
   "file_extension": ".py",
   "mimetype": "text/x-python",
   "name": "python",
   "nbconvert_exporter": "python",
   "pygments_lexer": "ipython3",
   "version": "3.7.4"
  },
  "toc": {
   "base_numbering": 1,
   "nav_menu": {},
   "number_sections": true,
   "sideBar": true,
   "skip_h1_title": false,
   "title_cell": "Table of Contents",
   "title_sidebar": "Contents",
   "toc_cell": true,
   "toc_position": {},
   "toc_section_display": true,
   "toc_window_display": false
  }
 },
 "nbformat": 4,
 "nbformat_minor": 4
}
