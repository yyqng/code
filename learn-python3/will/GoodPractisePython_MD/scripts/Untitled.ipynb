{
 "cells": [
  {
   "cell_type": "markdown",
   "metadata": {},
   "source": [
    "## cached_property"
   ]
  },
  {
   "cell_type": "code",
   "execution_count": 46,
   "metadata": {},
   "outputs": [],
   "source": [
    "import statistics\n",
    "class DataSet_V0:\n",
    "    def __init__(self, sequence_of_numbers):\n",
    "        self._data = sequence_of_numbers\n",
    "        self._stdev = None\n",
    "        \n",
    "    @property\n",
    "    def stdev(self):\n",
    "        if not self._stdev:\n",
    "            self._stdev = statistics.stdev(self._data)\n",
    "        return self._stdev\n"
   ]
  },
  {
   "cell_type": "code",
   "execution_count": 47,
   "metadata": {},
   "outputs": [],
   "source": [
    "from functools import cached_property\n",
    "import statistics\n",
    "class DataSet_V1:\n",
    "    def __init__(self, sequence_of_numbers):\n",
    "        self._data = sequence_of_numbers\n",
    "\n",
    "    @cached_property\n",
    "    def stdev(self):\n",
    "        return statistics.stdev(self._data)"
   ]
  },
  {
   "cell_type": "code",
   "execution_count": 48,
   "metadata": {},
   "outputs": [],
   "source": [
    "ds0 = DataSet_V0(range(10))\n",
    "ds1 = DataSet_V1(range(10))"
   ]
  },
  {
   "cell_type": "code",
   "execution_count": 49,
   "metadata": {
    "scrolled": true
   },
   "outputs": [
    {
     "name": "stdout",
     "output_type": "stream",
     "text": [
      "call0\n",
      "call1\n",
      "ds0.stdev=3.0276503540974917, ds1.stdev=3.0276503540974917\n"
     ]
    }
   ],
   "source": [
    "print(f\"{ds0.stdev=}, {ds1.stdev=}\")"
   ]
  },
  {
   "cell_type": "markdown",
   "metadata": {},
   "source": [
    "## singledispatched"
   ]
  },
  {
   "cell_type": "code",
   "execution_count": 67,
   "metadata": {},
   "outputs": [],
   "source": [
    "from functools import singledispatchmethod\n",
    "class Negator:\n",
    "    @singledispatchmethod\n",
    "    def neg(cls, arg):\n",
    "        raise NotImplementedError(\"Cannot negate a\")\n",
    "\n",
    "    @neg.register\n",
    "    def _(cls, arg: int):\n",
    "        return -arg\n",
    "\n",
    "    @neg.register\n",
    "    def _(cls, arg: bool):\n",
    "        return not arg\n",
    "        "
   ]
  },
  {
   "cell_type": "code",
   "execution_count": 71,
   "metadata": {},
   "outputs": [
    {
     "name": "stdout",
     "output_type": "stream",
     "text": [
      "Negator().neg(False)=True, Negator().neg(4)=-4\n"
     ]
    }
   ],
   "source": [
    "print(f\"{Negator().neg(False)=}, {Negator().neg(4)=}\")"
   ]
  },
  {
   "cell_type": "code",
   "execution_count": 72,
   "metadata": {},
   "outputs": [
    {
     "data": {
      "text/plain": [
       "120.0"
      ]
     },
     "execution_count": 72,
     "metadata": {},
     "output_type": "execute_result"
    }
   ],
   "source": [
    "10*9*8/6"
   ]
  }
 ],
 "metadata": {
  "kernelspec": {
   "display_name": "Python 3",
   "language": "python",
   "name": "python3"
  },
  "language_info": {
   "codemirror_mode": {
    "name": "ipython",
    "version": 3
   },
   "file_extension": ".py",
   "mimetype": "text/x-python",
   "name": "python",
   "nbconvert_exporter": "python",
   "pygments_lexer": "ipython3",
   "version": "3.8.5"
  }
 },
 "nbformat": 4,
 "nbformat_minor": 4
}
